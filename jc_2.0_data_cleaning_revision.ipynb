{
 "cells": [
  {
   "cell_type": "markdown",
   "id": "e47fa8e2-43cd-449a-8d21-9e6bf723bdca",
   "metadata": {},
   "source": [
    "# Data Cleaning Revision"
   ]
  },
  {
   "cell_type": "markdown",
   "id": "5cc02da9-866b-4481-9f23-af25cde3bfcb",
   "metadata": {},
   "source": [
    "From our Data Cleaning training session, I learned the importance of guarding against Cartesian joins. A Cartesian product consists of every possible combination of rows from the tables. This result set is usually extremely large and unwieldy, killing application performance. Additionally, I understood that effective data cleaning requires performing Exploratory Data Analysis (EDA), and that this process is cyclical. In this notebook, I aim to deepen my understanding of data balance and imbalance by visualizing it using box plots. I also plan to use the [MissingNo library](https://www.geeksforgeeks.org/python-visualize-missing-values-nan-values-using-missingno-library/) to visualize missing values (NaNs)."
   ]
  },
  {
   "cell_type": "markdown",
   "id": "5fd2828b-1da4-4332-8d76-d1936f9d09fe",
   "metadata": {},
   "source": [
    "### Imports"
   ]
  },
  {
   "cell_type": "code",
   "execution_count": 68,
   "id": "f00679ed-3dee-427a-990d-ab359ea78bc8",
   "metadata": {},
   "outputs": [],
   "source": [
    "# Libraries\n",
    "import pandas as pd\n",
    "import os\n",
    "import sys\n",
    "import missingno as msno\n",
    "from sklearn.impute import KNNImputer\n",
    "from sklearn.impute import SimpleImputer\n",
    "\n",
    "\n",
    "# Functions\n",
    "src_path = os.path.abspath('../src/')\n",
    "sys.path.append(src_path)\n",
    "\n",
    "from data_cleaning import standardize_col_names, null_counts"
   ]
  },
  {
   "cell_type": "code",
   "execution_count": 2,
   "id": "49bf00aa-9fb4-46c1-9e9c-e9c0b68503f1",
   "metadata": {},
   "outputs": [
    {
     "name": "stderr",
     "output_type": "stream",
     "text": [
      "/var/folders/sr/c4hqwd5d201c391w690mwpxc0000gn/T/ipykernel_10327/3699146215.py:5: DtypeWarning: Columns (2) have mixed types. Specify dtype option on import or set low_memory=False.\n",
      "  train_identity = pd.read_csv(os.path.join(input_loc, 'train_identity.csv'))\n",
      "/var/folders/sr/c4hqwd5d201c391w690mwpxc0000gn/T/ipykernel_10327/3699146215.py:7: DtypeWarning: Columns (2) have mixed types. Specify dtype option on import or set low_memory=False.\n",
      "  test_identity = pd.read_csv(os.path.join(input_loc, 'test_identity.csv'))\n"
     ]
    }
   ],
   "source": [
    "input_loc = '../data/raw/'\n",
    "\n",
    "# Read in the data\n",
    "sample_submission = pd.read_csv(os.path.join(input_loc, 'sample_submission.csv'))\n",
    "train_identity = pd.read_csv(os.path.join(input_loc, 'train_identity.csv'))\n",
    "train_transaction = pd.read_csv(os.path.join(input_loc, 'train_transaction.csv'))\n",
    "test_identity = pd.read_csv(os.path.join(input_loc, 'test_identity.csv'))\n",
    "test_transaction = pd.read_csv(os.path.join(input_loc, 'test_transaction.csv'))"
   ]
  },
  {
   "cell_type": "code",
   "execution_count": 3,
   "id": "20e9fe0c-1055-4087-828a-e4dcfce22c87",
   "metadata": {
    "scrolled": true
   },
   "outputs": [
    {
     "name": "stdout",
     "output_type": "stream",
     "text": [
      "(506691, 2)\n",
      "(5769320, 3)\n",
      "(590540, 403)\n",
      "(5676280, 3)\n",
      "(506691, 402)\n"
     ]
    }
   ],
   "source": [
    "# What is the data's shape?\n",
    "print(sample_submission.shape)\n",
    "print(train_identity.shape)\n",
    "print(train_transaction.shape)\n",
    "print(test_identity.shape)\n",
    "print(test_transaction.shape)"
   ]
  },
  {
   "cell_type": "markdown",
   "id": "1ab4c8b1-ece8-4ed0-a7f9-cf6881ad2a9a",
   "metadata": {},
   "source": [
    "Observations:\n",
    "- `sample_submission` has 506,691 rows and 2 columns. This is the template for our predictions.\n",
    "- `test_identity` and `train_identity` are long-format datasets with approximately 5.7 million rows and 3 columns each.\n",
    "- `test_transaction` and `train_transaction` are wide-format datasets with around 500,000 rows and over 400 columns each. The training set includes the target variable `isFraud`."
   ]
  },
  {
   "cell_type": "markdown",
   "id": "11476869-6774-455b-8692-6f6c7a964937",
   "metadata": {},
   "source": [
    "<b>What's in the data?</b>"
   ]
  },
  {
   "cell_type": "code",
   "execution_count": 4,
   "id": "f2d590e8-4baa-40e1-8e15-551ec6d01c4c",
   "metadata": {},
   "outputs": [
    {
     "data": {
      "text/html": [
       "<div>\n",
       "<style scoped>\n",
       "    .dataframe tbody tr th:only-of-type {\n",
       "        vertical-align: middle;\n",
       "    }\n",
       "\n",
       "    .dataframe tbody tr th {\n",
       "        vertical-align: top;\n",
       "    }\n",
       "\n",
       "    .dataframe thead th {\n",
       "        text-align: right;\n",
       "    }\n",
       "</style>\n",
       "<table border=\"1\" class=\"dataframe\">\n",
       "  <thead>\n",
       "    <tr style=\"text-align: right;\">\n",
       "      <th></th>\n",
       "      <th>TransactionID</th>\n",
       "      <th>isFraud</th>\n",
       "    </tr>\n",
       "  </thead>\n",
       "  <tbody>\n",
       "    <tr>\n",
       "      <th>0</th>\n",
       "      <td>3663549</td>\n",
       "      <td>0.5</td>\n",
       "    </tr>\n",
       "    <tr>\n",
       "      <th>1</th>\n",
       "      <td>3663550</td>\n",
       "      <td>0.5</td>\n",
       "    </tr>\n",
       "    <tr>\n",
       "      <th>2</th>\n",
       "      <td>3663551</td>\n",
       "      <td>0.5</td>\n",
       "    </tr>\n",
       "    <tr>\n",
       "      <th>3</th>\n",
       "      <td>3663552</td>\n",
       "      <td>0.5</td>\n",
       "    </tr>\n",
       "    <tr>\n",
       "      <th>4</th>\n",
       "      <td>3663553</td>\n",
       "      <td>0.5</td>\n",
       "    </tr>\n",
       "  </tbody>\n",
       "</table>\n",
       "</div>"
      ],
      "text/plain": [
       "   TransactionID  isFraud\n",
       "0        3663549      0.5\n",
       "1        3663550      0.5\n",
       "2        3663551      0.5\n",
       "3        3663552      0.5\n",
       "4        3663553      0.5"
      ]
     },
     "execution_count": 4,
     "metadata": {},
     "output_type": "execute_result"
    }
   ],
   "source": [
    "sample_submission.head()"
   ]
  },
  {
   "cell_type": "code",
   "execution_count": 5,
   "id": "3145c843-062c-4718-94bc-3224e8e60ed2",
   "metadata": {},
   "outputs": [
    {
     "data": {
      "text/html": [
       "<div>\n",
       "<style scoped>\n",
       "    .dataframe tbody tr th:only-of-type {\n",
       "        vertical-align: middle;\n",
       "    }\n",
       "\n",
       "    .dataframe tbody tr th {\n",
       "        vertical-align: top;\n",
       "    }\n",
       "\n",
       "    .dataframe thead th {\n",
       "        text-align: right;\n",
       "    }\n",
       "</style>\n",
       "<table border=\"1\" class=\"dataframe\">\n",
       "  <thead>\n",
       "    <tr style=\"text-align: right;\">\n",
       "      <th></th>\n",
       "      <th>TransactionID</th>\n",
       "      <th>variable</th>\n",
       "      <th>value</th>\n",
       "    </tr>\n",
       "  </thead>\n",
       "  <tbody>\n",
       "    <tr>\n",
       "      <th>0</th>\n",
       "      <td>2987004</td>\n",
       "      <td>id_01</td>\n",
       "      <td>0.0</td>\n",
       "    </tr>\n",
       "    <tr>\n",
       "      <th>1</th>\n",
       "      <td>2987008</td>\n",
       "      <td>id_01</td>\n",
       "      <td>-5.0</td>\n",
       "    </tr>\n",
       "    <tr>\n",
       "      <th>2</th>\n",
       "      <td>2987010</td>\n",
       "      <td>id_01</td>\n",
       "      <td>-5.0</td>\n",
       "    </tr>\n",
       "    <tr>\n",
       "      <th>3</th>\n",
       "      <td>2987011</td>\n",
       "      <td>id_01</td>\n",
       "      <td>-5.0</td>\n",
       "    </tr>\n",
       "    <tr>\n",
       "      <th>4</th>\n",
       "      <td>2987016</td>\n",
       "      <td>id_01</td>\n",
       "      <td>0.0</td>\n",
       "    </tr>\n",
       "  </tbody>\n",
       "</table>\n",
       "</div>"
      ],
      "text/plain": [
       "   TransactionID variable value\n",
       "0        2987004    id_01   0.0\n",
       "1        2987008    id_01  -5.0\n",
       "2        2987010    id_01  -5.0\n",
       "3        2987011    id_01  -5.0\n",
       "4        2987016    id_01   0.0"
      ]
     },
     "execution_count": 5,
     "metadata": {},
     "output_type": "execute_result"
    }
   ],
   "source": [
    "train_identity.head()"
   ]
  },
  {
   "cell_type": "markdown",
   "id": "0782e0e4-f4dd-4a43-9b67-a14c2b762384",
   "metadata": {},
   "source": [
    "Observation: Identity information is stored in a long format, with each `TransactionID` having multiple `variable` and `value` pairs."
   ]
  },
  {
   "cell_type": "code",
   "execution_count": 6,
   "id": "488e5466-865a-42c4-b20b-d5a3b55f1fb3",
   "metadata": {},
   "outputs": [
    {
     "data": {
      "text/html": [
       "<div>\n",
       "<style scoped>\n",
       "    .dataframe tbody tr th:only-of-type {\n",
       "        vertical-align: middle;\n",
       "    }\n",
       "\n",
       "    .dataframe tbody tr th {\n",
       "        vertical-align: top;\n",
       "    }\n",
       "\n",
       "    .dataframe thead th {\n",
       "        text-align: right;\n",
       "    }\n",
       "</style>\n",
       "<table border=\"1\" class=\"dataframe\">\n",
       "  <thead>\n",
       "    <tr style=\"text-align: right;\">\n",
       "      <th></th>\n",
       "      <th>TransactionID</th>\n",
       "      <th>isFraud</th>\n",
       "      <th>TransactionDT</th>\n",
       "      <th>TransactionAmt</th>\n",
       "      <th>ProductCD</th>\n",
       "      <th>card1</th>\n",
       "      <th>card2</th>\n",
       "      <th>card3</th>\n",
       "      <th>card4</th>\n",
       "      <th>card5</th>\n",
       "      <th>...</th>\n",
       "      <th>V331</th>\n",
       "      <th>V332</th>\n",
       "      <th>V333</th>\n",
       "      <th>V334</th>\n",
       "      <th>V335</th>\n",
       "      <th>V336</th>\n",
       "      <th>V337</th>\n",
       "      <th>V338</th>\n",
       "      <th>V339</th>\n",
       "      <th>V340</th>\n",
       "    </tr>\n",
       "  </thead>\n",
       "  <tbody>\n",
       "    <tr>\n",
       "      <th>0</th>\n",
       "      <td>2987000</td>\n",
       "      <td>0</td>\n",
       "      <td>86400</td>\n",
       "      <td>68.5</td>\n",
       "      <td>W</td>\n",
       "      <td>13926</td>\n",
       "      <td>NaN</td>\n",
       "      <td>150.0</td>\n",
       "      <td>discover</td>\n",
       "      <td>142.0</td>\n",
       "      <td>...</td>\n",
       "      <td>NaN</td>\n",
       "      <td>NaN</td>\n",
       "      <td>NaN</td>\n",
       "      <td>NaN</td>\n",
       "      <td>NaN</td>\n",
       "      <td>NaN</td>\n",
       "      <td>NaN</td>\n",
       "      <td>NaN</td>\n",
       "      <td>NaN</td>\n",
       "      <td>NaN</td>\n",
       "    </tr>\n",
       "    <tr>\n",
       "      <th>1</th>\n",
       "      <td>2987001</td>\n",
       "      <td>0</td>\n",
       "      <td>86401</td>\n",
       "      <td>29.0</td>\n",
       "      <td>W</td>\n",
       "      <td>2755</td>\n",
       "      <td>404.0</td>\n",
       "      <td>150.0</td>\n",
       "      <td>mastercard</td>\n",
       "      <td>102.0</td>\n",
       "      <td>...</td>\n",
       "      <td>NaN</td>\n",
       "      <td>NaN</td>\n",
       "      <td>NaN</td>\n",
       "      <td>NaN</td>\n",
       "      <td>NaN</td>\n",
       "      <td>NaN</td>\n",
       "      <td>NaN</td>\n",
       "      <td>NaN</td>\n",
       "      <td>NaN</td>\n",
       "      <td>NaN</td>\n",
       "    </tr>\n",
       "    <tr>\n",
       "      <th>2</th>\n",
       "      <td>2987002</td>\n",
       "      <td>0</td>\n",
       "      <td>86469</td>\n",
       "      <td>59.0</td>\n",
       "      <td>W</td>\n",
       "      <td>4663</td>\n",
       "      <td>490.0</td>\n",
       "      <td>150.0</td>\n",
       "      <td>visa</td>\n",
       "      <td>166.0</td>\n",
       "      <td>...</td>\n",
       "      <td>NaN</td>\n",
       "      <td>NaN</td>\n",
       "      <td>NaN</td>\n",
       "      <td>NaN</td>\n",
       "      <td>NaN</td>\n",
       "      <td>NaN</td>\n",
       "      <td>NaN</td>\n",
       "      <td>NaN</td>\n",
       "      <td>NaN</td>\n",
       "      <td>NaN</td>\n",
       "    </tr>\n",
       "    <tr>\n",
       "      <th>3</th>\n",
       "      <td>2987003</td>\n",
       "      <td>0</td>\n",
       "      <td>86499</td>\n",
       "      <td>50.0</td>\n",
       "      <td>W</td>\n",
       "      <td>18132</td>\n",
       "      <td>567.0</td>\n",
       "      <td>150.0</td>\n",
       "      <td>mastercard</td>\n",
       "      <td>117.0</td>\n",
       "      <td>...</td>\n",
       "      <td>NaN</td>\n",
       "      <td>NaN</td>\n",
       "      <td>NaN</td>\n",
       "      <td>NaN</td>\n",
       "      <td>NaN</td>\n",
       "      <td>NaN</td>\n",
       "      <td>NaN</td>\n",
       "      <td>NaN</td>\n",
       "      <td>NaN</td>\n",
       "      <td>NaN</td>\n",
       "    </tr>\n",
       "    <tr>\n",
       "      <th>4</th>\n",
       "      <td>2987004</td>\n",
       "      <td>0</td>\n",
       "      <td>86506</td>\n",
       "      <td>50.0</td>\n",
       "      <td>H</td>\n",
       "      <td>4497</td>\n",
       "      <td>514.0</td>\n",
       "      <td>150.0</td>\n",
       "      <td>mastercard</td>\n",
       "      <td>102.0</td>\n",
       "      <td>...</td>\n",
       "      <td>0.0</td>\n",
       "      <td>0.0</td>\n",
       "      <td>0.0</td>\n",
       "      <td>0.0</td>\n",
       "      <td>0.0</td>\n",
       "      <td>0.0</td>\n",
       "      <td>0.0</td>\n",
       "      <td>0.0</td>\n",
       "      <td>0.0</td>\n",
       "      <td>NaN</td>\n",
       "    </tr>\n",
       "  </tbody>\n",
       "</table>\n",
       "<p>5 rows × 403 columns</p>\n",
       "</div>"
      ],
      "text/plain": [
       "   TransactionID  isFraud  TransactionDT  TransactionAmt ProductCD  card1  \\\n",
       "0        2987000        0          86400            68.5         W  13926   \n",
       "1        2987001        0          86401            29.0         W   2755   \n",
       "2        2987002        0          86469            59.0         W   4663   \n",
       "3        2987003        0          86499            50.0         W  18132   \n",
       "4        2987004        0          86506            50.0         H   4497   \n",
       "\n",
       "   card2  card3       card4  card5  ... V331  V332  V333  V334  V335 V336  \\\n",
       "0    NaN  150.0    discover  142.0  ...  NaN   NaN   NaN   NaN   NaN  NaN   \n",
       "1  404.0  150.0  mastercard  102.0  ...  NaN   NaN   NaN   NaN   NaN  NaN   \n",
       "2  490.0  150.0        visa  166.0  ...  NaN   NaN   NaN   NaN   NaN  NaN   \n",
       "3  567.0  150.0  mastercard  117.0  ...  NaN   NaN   NaN   NaN   NaN  NaN   \n",
       "4  514.0  150.0  mastercard  102.0  ...  0.0   0.0   0.0   0.0   0.0  0.0   \n",
       "\n",
       "  V337  V338  V339  V340  \n",
       "0  NaN   NaN   NaN   NaN  \n",
       "1  NaN   NaN   NaN   NaN  \n",
       "2  NaN   NaN   NaN   NaN  \n",
       "3  NaN   NaN   NaN   NaN  \n",
       "4  0.0   0.0   0.0   NaN  \n",
       "\n",
       "[5 rows x 403 columns]"
      ]
     },
     "execution_count": 6,
     "metadata": {},
     "output_type": "execute_result"
    }
   ],
   "source": [
    "train_transaction.head()"
   ]
  },
  {
   "cell_type": "code",
   "execution_count": 7,
   "id": "ecfc28d7-741d-455d-827d-56e5bd30f964",
   "metadata": {},
   "outputs": [
    {
     "data": {
      "text/html": [
       "<div>\n",
       "<style scoped>\n",
       "    .dataframe tbody tr th:only-of-type {\n",
       "        vertical-align: middle;\n",
       "    }\n",
       "\n",
       "    .dataframe tbody tr th {\n",
       "        vertical-align: top;\n",
       "    }\n",
       "\n",
       "    .dataframe thead th {\n",
       "        text-align: right;\n",
       "    }\n",
       "</style>\n",
       "<table border=\"1\" class=\"dataframe\">\n",
       "  <thead>\n",
       "    <tr style=\"text-align: right;\">\n",
       "      <th></th>\n",
       "      <th>TransactionID</th>\n",
       "      <th>variable</th>\n",
       "      <th>value</th>\n",
       "    </tr>\n",
       "  </thead>\n",
       "  <tbody>\n",
       "    <tr>\n",
       "      <th>0</th>\n",
       "      <td>3663586</td>\n",
       "      <td>id_01</td>\n",
       "      <td>-45.0</td>\n",
       "    </tr>\n",
       "    <tr>\n",
       "      <th>1</th>\n",
       "      <td>3663588</td>\n",
       "      <td>id_01</td>\n",
       "      <td>0.0</td>\n",
       "    </tr>\n",
       "    <tr>\n",
       "      <th>2</th>\n",
       "      <td>3663597</td>\n",
       "      <td>id_01</td>\n",
       "      <td>-5.0</td>\n",
       "    </tr>\n",
       "    <tr>\n",
       "      <th>3</th>\n",
       "      <td>3663601</td>\n",
       "      <td>id_01</td>\n",
       "      <td>-45.0</td>\n",
       "    </tr>\n",
       "    <tr>\n",
       "      <th>4</th>\n",
       "      <td>3663602</td>\n",
       "      <td>id_01</td>\n",
       "      <td>-95.0</td>\n",
       "    </tr>\n",
       "  </tbody>\n",
       "</table>\n",
       "</div>"
      ],
      "text/plain": [
       "   TransactionID variable value\n",
       "0        3663586    id_01 -45.0\n",
       "1        3663588    id_01   0.0\n",
       "2        3663597    id_01  -5.0\n",
       "3        3663601    id_01 -45.0\n",
       "4        3663602    id_01 -95.0"
      ]
     },
     "execution_count": 7,
     "metadata": {},
     "output_type": "execute_result"
    }
   ],
   "source": [
    "test_identity.head()"
   ]
  },
  {
   "cell_type": "markdown",
   "id": "d1cdff7a-415f-4ddb-a5de-223313e93615",
   "metadata": {},
   "source": [
    "Observation: Follows the same long format as `train_identity`."
   ]
  },
  {
   "cell_type": "code",
   "execution_count": 8,
   "id": "9808be9e-b078-462a-8c33-2022de2022a1",
   "metadata": {},
   "outputs": [
    {
     "data": {
      "text/html": [
       "<div>\n",
       "<style scoped>\n",
       "    .dataframe tbody tr th:only-of-type {\n",
       "        vertical-align: middle;\n",
       "    }\n",
       "\n",
       "    .dataframe tbody tr th {\n",
       "        vertical-align: top;\n",
       "    }\n",
       "\n",
       "    .dataframe thead th {\n",
       "        text-align: right;\n",
       "    }\n",
       "</style>\n",
       "<table border=\"1\" class=\"dataframe\">\n",
       "  <thead>\n",
       "    <tr style=\"text-align: right;\">\n",
       "      <th></th>\n",
       "      <th>TransactionID</th>\n",
       "      <th>TransactionDT</th>\n",
       "      <th>TransactionAmt</th>\n",
       "      <th>ProductCD</th>\n",
       "      <th>card1</th>\n",
       "      <th>card2</th>\n",
       "      <th>card3</th>\n",
       "      <th>card4</th>\n",
       "      <th>card5</th>\n",
       "      <th>card6</th>\n",
       "      <th>...</th>\n",
       "      <th>V331</th>\n",
       "      <th>V332</th>\n",
       "      <th>V333</th>\n",
       "      <th>V334</th>\n",
       "      <th>V335</th>\n",
       "      <th>V336</th>\n",
       "      <th>V337</th>\n",
       "      <th>V338</th>\n",
       "      <th>V339</th>\n",
       "      <th>V340</th>\n",
       "    </tr>\n",
       "  </thead>\n",
       "  <tbody>\n",
       "    <tr>\n",
       "      <th>0</th>\n",
       "      <td>3663549</td>\n",
       "      <td>18403224</td>\n",
       "      <td>31.95</td>\n",
       "      <td>W</td>\n",
       "      <td>10409</td>\n",
       "      <td>111.0</td>\n",
       "      <td>150.0</td>\n",
       "      <td>visa</td>\n",
       "      <td>226.0</td>\n",
       "      <td>debit</td>\n",
       "      <td>...</td>\n",
       "      <td>NaN</td>\n",
       "      <td>NaN</td>\n",
       "      <td>NaN</td>\n",
       "      <td>NaN</td>\n",
       "      <td>NaN</td>\n",
       "      <td>NaN</td>\n",
       "      <td>NaN</td>\n",
       "      <td>NaN</td>\n",
       "      <td>NaN</td>\n",
       "      <td>NaN</td>\n",
       "    </tr>\n",
       "    <tr>\n",
       "      <th>1</th>\n",
       "      <td>3663550</td>\n",
       "      <td>18403263</td>\n",
       "      <td>49.00</td>\n",
       "      <td>W</td>\n",
       "      <td>4272</td>\n",
       "      <td>111.0</td>\n",
       "      <td>150.0</td>\n",
       "      <td>visa</td>\n",
       "      <td>226.0</td>\n",
       "      <td>debit</td>\n",
       "      <td>...</td>\n",
       "      <td>NaN</td>\n",
       "      <td>NaN</td>\n",
       "      <td>NaN</td>\n",
       "      <td>NaN</td>\n",
       "      <td>NaN</td>\n",
       "      <td>NaN</td>\n",
       "      <td>NaN</td>\n",
       "      <td>NaN</td>\n",
       "      <td>NaN</td>\n",
       "      <td>NaN</td>\n",
       "    </tr>\n",
       "    <tr>\n",
       "      <th>2</th>\n",
       "      <td>3663551</td>\n",
       "      <td>18403310</td>\n",
       "      <td>171.00</td>\n",
       "      <td>W</td>\n",
       "      <td>4476</td>\n",
       "      <td>574.0</td>\n",
       "      <td>150.0</td>\n",
       "      <td>visa</td>\n",
       "      <td>226.0</td>\n",
       "      <td>debit</td>\n",
       "      <td>...</td>\n",
       "      <td>NaN</td>\n",
       "      <td>NaN</td>\n",
       "      <td>NaN</td>\n",
       "      <td>NaN</td>\n",
       "      <td>NaN</td>\n",
       "      <td>NaN</td>\n",
       "      <td>NaN</td>\n",
       "      <td>NaN</td>\n",
       "      <td>NaN</td>\n",
       "      <td>NaN</td>\n",
       "    </tr>\n",
       "    <tr>\n",
       "      <th>3</th>\n",
       "      <td>3663552</td>\n",
       "      <td>18403310</td>\n",
       "      <td>284.95</td>\n",
       "      <td>W</td>\n",
       "      <td>10989</td>\n",
       "      <td>360.0</td>\n",
       "      <td>150.0</td>\n",
       "      <td>visa</td>\n",
       "      <td>166.0</td>\n",
       "      <td>debit</td>\n",
       "      <td>...</td>\n",
       "      <td>NaN</td>\n",
       "      <td>NaN</td>\n",
       "      <td>NaN</td>\n",
       "      <td>NaN</td>\n",
       "      <td>NaN</td>\n",
       "      <td>NaN</td>\n",
       "      <td>NaN</td>\n",
       "      <td>NaN</td>\n",
       "      <td>NaN</td>\n",
       "      <td>NaN</td>\n",
       "    </tr>\n",
       "    <tr>\n",
       "      <th>4</th>\n",
       "      <td>3663553</td>\n",
       "      <td>18403317</td>\n",
       "      <td>67.95</td>\n",
       "      <td>W</td>\n",
       "      <td>18018</td>\n",
       "      <td>452.0</td>\n",
       "      <td>150.0</td>\n",
       "      <td>mastercard</td>\n",
       "      <td>117.0</td>\n",
       "      <td>debit</td>\n",
       "      <td>...</td>\n",
       "      <td>NaN</td>\n",
       "      <td>NaN</td>\n",
       "      <td>NaN</td>\n",
       "      <td>NaN</td>\n",
       "      <td>NaN</td>\n",
       "      <td>NaN</td>\n",
       "      <td>NaN</td>\n",
       "      <td>NaN</td>\n",
       "      <td>NaN</td>\n",
       "      <td>NaN</td>\n",
       "    </tr>\n",
       "  </tbody>\n",
       "</table>\n",
       "<p>5 rows × 402 columns</p>\n",
       "</div>"
      ],
      "text/plain": [
       "   TransactionID  TransactionDT  TransactionAmt ProductCD  card1  card2  \\\n",
       "0        3663549       18403224           31.95         W  10409  111.0   \n",
       "1        3663550       18403263           49.00         W   4272  111.0   \n",
       "2        3663551       18403310          171.00         W   4476  574.0   \n",
       "3        3663552       18403310          284.95         W  10989  360.0   \n",
       "4        3663553       18403317           67.95         W  18018  452.0   \n",
       "\n",
       "   card3       card4  card5  card6  ...  V331  V332  V333  V334 V335 V336  \\\n",
       "0  150.0        visa  226.0  debit  ...   NaN   NaN   NaN   NaN  NaN  NaN   \n",
       "1  150.0        visa  226.0  debit  ...   NaN   NaN   NaN   NaN  NaN  NaN   \n",
       "2  150.0        visa  226.0  debit  ...   NaN   NaN   NaN   NaN  NaN  NaN   \n",
       "3  150.0        visa  166.0  debit  ...   NaN   NaN   NaN   NaN  NaN  NaN   \n",
       "4  150.0  mastercard  117.0  debit  ...   NaN   NaN   NaN   NaN  NaN  NaN   \n",
       "\n",
       "   V337  V338  V339  V340  \n",
       "0   NaN   NaN   NaN   NaN  \n",
       "1   NaN   NaN   NaN   NaN  \n",
       "2   NaN   NaN   NaN   NaN  \n",
       "3   NaN   NaN   NaN   NaN  \n",
       "4   NaN   NaN   NaN   NaN  \n",
       "\n",
       "[5 rows x 402 columns]"
      ]
     },
     "execution_count": 8,
     "metadata": {},
     "output_type": "execute_result"
    }
   ],
   "source": [
    "test_transaction.head()"
   ]
  },
  {
   "cell_type": "markdown",
   "id": "2d42d59a-275c-4d01-b223-8c234157455a",
   "metadata": {},
   "source": [
    "Summary\n",
    "- The data includes both transaction and identity information for training and testing.\n",
    "- The `train_transaction` and `test_transaction` datasets are wide, containing many features.\n",
    "- The `train_identity` and `test_identity` datasets are long, containing key-value pairs for additional identity attributes.\n",
    "- The `sample_submission` dataset provides a template for predictions, indicating that `isFraud` in this context might represent a probability."
   ]
  },
  {
   "cell_type": "markdown",
   "id": "aa10be9e-c022-4dea-85fd-e406d6b130d7",
   "metadata": {},
   "source": [
    "<b>Reshape the Identity Data</b>"
   ]
  },
  {
   "cell_type": "code",
   "execution_count": 9,
   "id": "ca750d51-82d0-4f8d-9312-530237dcebe8",
   "metadata": {},
   "outputs": [],
   "source": [
    "# Reshape the train_identity data from long to wide format\n",
    "train_identity_wide = train_identity.pivot(index='TransactionID', columns='variable', values='value').reset_index()\n",
    "\n",
    "# Reshape the test_identity data from long to wide format\n",
    "test_identity_wide = test_identity.pivot(index='TransactionID', columns='variable', values='value').reset_index()"
   ]
  },
  {
   "cell_type": "markdown",
   "id": "c75932f0-3523-45e9-8bf3-247ceb6d72fa",
   "metadata": {},
   "source": [
    "<b>Merge the Reshaped Identity Data with Transaction Data on `TransactionID`</b>"
   ]
  },
  {
   "cell_type": "code",
   "execution_count": 10,
   "id": "48bcba66-8bfc-4163-a2af-742f30b70c53",
   "metadata": {},
   "outputs": [],
   "source": [
    "# Merge train_identity_wide with train_transaction\n",
    "train_data = pd.merge(train_transaction, train_identity_wide, on='TransactionID', how='left')\n",
    "\n",
    "# Merge test_identity_wide with test_transaction\n",
    "test_data = pd.merge(test_transaction, test_identity_wide, on='TransactionID', how='left')"
   ]
  },
  {
   "cell_type": "markdown",
   "id": "e320a0f4-44b1-4953-b7f4-8e8f5ef22d86",
   "metadata": {},
   "source": [
    "<b>Verify the Merges</b>"
   ]
  },
  {
   "cell_type": "code",
   "execution_count": 11,
   "id": "60f4b343-518e-4927-a3c5-5092cedf1049",
   "metadata": {},
   "outputs": [
    {
     "name": "stdout",
     "output_type": "stream",
     "text": [
      "(590540, 443)\n",
      "(506691, 442)\n"
     ]
    }
   ],
   "source": [
    "# Verify the shapes of the merged data\n",
    "print(train_data.shape)\n",
    "print(test_data.shape)"
   ]
  },
  {
   "cell_type": "markdown",
   "id": "730b470f-7b04-4acc-988c-8fc2c6fa9895",
   "metadata": {},
   "source": [
    "<b>Getting to know the data and it's missing values</b>"
   ]
  },
  {
   "cell_type": "code",
   "execution_count": 12,
   "id": "776f5a05-440a-4fd5-94f6-665ccba0fc8c",
   "metadata": {},
   "outputs": [
    {
     "name": "stdout",
     "output_type": "stream",
     "text": [
      "TransactionID\n",
      "isFraud\n",
      "TransactionDT\n",
      "TransactionAmt\n",
      "ProductCD\n",
      "card1\n",
      "card2\n",
      "card3\n",
      "card4\n",
      "card5\n",
      "card6\n",
      "addr1\n",
      "addr2\n",
      "dist1\n",
      "dist2\n",
      "P_emaildomain\n",
      "R_emaildomain\n",
      "C1\n",
      "C2\n",
      "C3\n",
      "C4\n",
      "C5\n",
      "C6\n",
      "C7\n",
      "C8\n",
      "C9\n",
      "C10\n",
      "C11\n",
      "C12\n",
      "C13\n",
      "C14\n",
      "D1\n",
      "D2\n",
      "D3\n",
      "D4\n",
      "D5\n",
      "D6\n",
      "D7\n",
      "D8\n",
      "D9\n",
      "D10\n",
      "D11\n",
      "D12\n",
      "D13\n",
      "D14\n",
      "D15\n",
      "M1\n",
      "M2\n",
      "M3\n",
      "M4\n",
      "M5\n",
      "M6\n",
      "M7\n",
      "M8\n",
      "M9\n",
      "V1\n",
      "V2\n",
      "V3\n",
      "V4\n",
      "V5\n",
      "v5\n",
      "V6\n",
      "V7\n",
      "V8\n",
      "V9\n",
      "V10\n",
      "V11\n",
      "v12\n",
      "V12\n",
      "V13\n",
      "V14\n",
      "V15\n",
      "V16\n",
      "V17\n",
      "V18\n",
      "V19\n",
      "V20\n",
      "V21\n",
      "V22\n",
      "V23\n",
      "V24\n",
      "V25\n",
      "V26\n",
      "V27\n",
      "V28\n",
      "V29\n",
      "V30\n",
      "V31\n",
      "V32\n",
      "V33\n",
      "V34\n",
      "V35\n",
      "V36\n",
      "V37\n",
      "V38\n",
      "V39\n",
      "V40\n",
      "V41\n",
      "v42\n",
      "V42\n",
      "V43\n",
      "V44\n",
      "V45\n",
      "V46\n",
      "V47\n",
      "V48\n",
      "V49\n",
      "V50\n",
      "V51\n",
      "V52\n",
      "V53\n",
      "V54\n",
      "V55\n",
      "V56\n",
      "V57\n",
      "V58\n",
      "V59\n",
      "V60\n",
      "V61\n",
      "V62\n",
      "V63\n",
      "V64\n",
      "V65\n",
      "V66\n",
      "V67\n",
      "V68\n",
      "V69\n",
      "V70\n",
      "V71\n",
      "V72\n",
      "V73\n",
      "V74\n",
      "V75\n",
      "V76\n",
      "V77\n",
      "V78\n",
      "V79\n",
      "V80\n",
      "V81\n",
      "V82\n",
      "V83\n",
      "V84\n",
      "V85\n",
      "V86\n",
      "V87\n",
      "V88\n",
      "V89\n",
      "V90\n",
      "V91\n",
      "V92\n",
      "V93\n",
      "V94\n",
      "V95\n",
      "V96\n",
      "V97\n",
      "V98\n",
      "V99\n",
      "V100\n",
      "V101\n",
      "V102\n",
      "V103\n",
      "V104\n",
      "V105\n",
      "V106\n",
      "V107\n",
      "V108\n",
      "V109\n",
      "V110\n",
      "V111\n",
      "V112\n",
      "V113\n",
      "V114\n",
      "V115\n",
      "V116\n",
      "V117\n",
      "V118\n",
      "V119\n",
      "V120\n",
      "V121\n",
      "V122\n",
      "V123\n",
      "V124\n",
      "V125\n",
      "V126\n",
      "V127\n",
      "V128\n",
      "V129\n",
      "V130\n",
      "V131\n",
      "V132\n",
      "V133\n",
      "V134\n",
      "V135\n",
      "V136\n",
      "V137\n",
      "V138\n",
      "v139\n",
      "V139\n",
      "V140\n",
      "V141\n",
      "V142\n",
      "V143\n",
      "V144\n",
      "V145\n",
      "V146\n",
      "V147\n",
      "V148\n",
      "V149\n",
      "V150\n",
      "V151\n",
      "V152\n",
      "V153\n",
      "V154\n",
      "V155\n",
      "V156\n",
      "V157\n",
      "v157\n",
      "V158\n",
      "V159\n",
      "V160\n",
      "V161\n",
      "V162\n",
      "V163\n",
      "V164\n",
      "V165\n",
      "V166\n",
      "V167\n",
      "V168\n",
      "V169\n",
      "V170\n",
      "V171\n",
      "V172\n",
      "V173\n",
      "V174\n",
      "V175\n",
      "V176\n",
      "V177\n",
      "V178\n",
      "V179\n",
      "V180\n",
      "V181\n",
      "V182\n",
      "V183\n",
      "V184\n",
      "V185\n",
      "V186\n",
      "V187\n",
      "V188\n",
      "V189\n",
      "V190\n",
      "V191\n",
      "V192\n",
      "V193\n",
      "V194\n",
      "V195\n",
      "V196\n",
      "V197\n",
      "V198\n",
      "V199\n",
      "V200\n",
      "V201\n",
      "V202\n",
      "V203\n",
      "V204\n",
      "V205\n",
      "V206\n",
      "V207\n",
      "V208\n",
      "V209\n",
      "V210\n",
      "V211\n",
      "V212\n",
      "V213\n",
      "V214\n",
      "V215\n",
      "V216\n",
      "V217\n",
      "V218\n",
      "V219\n",
      "V220\n",
      "V221\n",
      "V222\n",
      "V223\n",
      "V224\n",
      "V225\n",
      "V226\n",
      "V227\n",
      "V228\n",
      "V229\n",
      "V230\n",
      "V231\n",
      "V232\n",
      "V233\n",
      "V234\n",
      "V235\n",
      "V236\n",
      "V237\n",
      "V238\n",
      "V239\n",
      "V240\n",
      "V241\n",
      "V242\n",
      "V243\n",
      "V244\n",
      "V245\n",
      "V246\n",
      "V247\n",
      "V248\n",
      "V249\n",
      "V250\n",
      "V251\n",
      "V252\n",
      "V253\n",
      "V254\n",
      "V255\n",
      "V256\n",
      "V257\n",
      "V258\n",
      "V259\n",
      "V260\n",
      "V261\n",
      "V262\n",
      "V263\n",
      "V264\n",
      "V265\n",
      "V266\n",
      "V267\n",
      "V268\n",
      "V269\n",
      "V270\n",
      "V271\n",
      "V272\n",
      "V273\n",
      "V274\n",
      "V275\n",
      "V276\n",
      "V277\n",
      "V278\n",
      "V279\n",
      "V280\n",
      "V281\n",
      "V282\n",
      "V283\n",
      "V284\n",
      "V285\n",
      "V286\n",
      "V287\n",
      "V288\n",
      "V289\n",
      "V290\n",
      "V291\n",
      "V292\n",
      "V293\n",
      "V294\n",
      "V295\n",
      "V296\n",
      "V297\n",
      "V298\n",
      "v298\n",
      "V299\n",
      "V300\n",
      "V301\n",
      "v301\n",
      "V302\n",
      "V303\n",
      "V304\n",
      "V305\n",
      "V306\n",
      "V307\n",
      "V308\n",
      "V309\n",
      "V310\n",
      "V311\n",
      "V312\n",
      "V313\n",
      "V314\n",
      "V315\n",
      "V316\n",
      "V317\n",
      "V318\n",
      "V319\n",
      "V320\n",
      "V321\n",
      "V322\n",
      "V323\n",
      "v323\n",
      "V324\n",
      "V325\n",
      "V326\n",
      "V327\n",
      "V328\n",
      "V329\n",
      "V330\n",
      "V331\n",
      "V332\n",
      "V333\n",
      "V334\n",
      "V335\n",
      "V336\n",
      "V337\n",
      "V338\n",
      "V339\n",
      "V340\n",
      "DeviceInfo\n",
      "DeviceType\n",
      "id_01\n",
      "id_02\n",
      "id_03\n",
      "id_04\n",
      "id_05\n",
      "id_06\n",
      "id_07\n",
      "id_08\n",
      "id_09\n",
      "id_10\n",
      "id_11\n",
      "id_12\n",
      "id_13\n",
      "id_14\n",
      "id_15\n",
      "id_16\n",
      "id_17\n",
      "id_18\n",
      "id_19\n",
      "id_20\n",
      "id_21\n",
      "id_22\n",
      "id_23\n",
      "id_24\n",
      "id_25\n",
      "id_26\n",
      "id_27\n",
      "id_28\n",
      "id_29\n",
      "id_30\n",
      "id_31\n",
      "id_32\n",
      "id_33\n",
      "id_34\n",
      "id_35\n",
      "id_36\n",
      "id_37\n",
      "id_38\n"
     ]
    }
   ],
   "source": [
    "# List all columns in train_data\n",
    "train_columns = train_data.columns\n",
    "\n",
    "# Print each column name\n",
    "for col in train_columns:\n",
    "    print(col)"
   ]
  },
  {
   "cell_type": "markdown",
   "id": "72e9870c-f6e2-4f5c-b832-0c3b91f0e416",
   "metadata": {},
   "source": [
    "To effectively use the `missingno` library for visualizing missing values in my dataset, I will group columns logically to better understand the distribution of missing data. "
   ]
  },
  {
   "cell_type": "markdown",
   "id": "5727a954-4569-4b0a-9eda-74011f7969dc",
   "metadata": {},
   "source": [
    "Grouping columns by their logical categories:\n",
    "1. Transaction Information\n",
    "2. Card Information \n",
    "3. Address Information\n",
    "4. Email Information\n",
    "5. C Columns\n",
    "6. D Columns\n",
    "7. M Columns\n",
    "8. V Columns\n",
    "9. Identity Information"
   ]
  },
  {
   "cell_type": "markdown",
   "id": "f7d9c0f5-1aa9-4bca-8230-a2178f078fff",
   "metadata": {},
   "source": [
    "<b>Group 1: Transaction Information</b> \n",
    "- Columns: `TransactionID`, `isFraud`, `TransactionDT`, `TransactionAmt`, `ProductCD`\n",
    "- Description:\n",
    "    - TransactionDT: timedelta from a given reference datetime (not an actual timestamp)\n",
    "    - TransactionAMT: transaction payment amount in USD\n",
    "    - ProductCD: product code, the product for each transaction\n",
    "- Hints:\n",
    "    - TransactionDT first value is 86400, which corresponds to the number of seconds in a day (60 * 60 * 24 = 86400) so I think the unit is seconds. Using this, we know the data spans 6 months, as the maximum value is 15811131, which would correspond to day 183.\n",
    "    - Some of the transaction amounts have three decimal places to the right of the decimal point. There seems to be a link to three decimal places and a blank addr1 and addr2 field. Is it possible that these are foreign transactions and that, for example, the 75.887 in row 12 is the result of multiplying a foreign currency amount by an exchange rate?\n",
    "    - Product isn't necessary to be a real 'product' (such as an item to be added to the shopping cart). It could be any kind of service."
   ]
  },
  {
   "cell_type": "markdown",
   "id": "09ce68dd-111b-40c2-8c88-81e0c1da1e0e",
   "metadata": {},
   "source": [
    "`isFraud`"
   ]
  },
  {
   "cell_type": "code",
   "execution_count": 13,
   "id": "37dec6b6-849d-48d1-80e5-79765b1a5caf",
   "metadata": {},
   "outputs": [
    {
     "name": "stdout",
     "output_type": "stream",
     "text": [
      "isFraud\n",
      "0    569877\n",
      "1     20663\n",
      "Name: count, dtype: int64\n"
     ]
    }
   ],
   "source": [
    "# Count occurrences of each unique value in the isFraud column\n",
    "fraud_counts = train_data['isFraud'].value_counts()\n",
    "\n",
    "# Print the counts\n",
    "print(fraud_counts)"
   ]
  },
  {
   "cell_type": "code",
   "execution_count": 14,
   "id": "1f481898-e7e0-4c4f-b586-2087b2e303e1",
   "metadata": {},
   "outputs": [
    {
     "name": "stdout",
     "output_type": "stream",
     "text": [
      "Number of missing values in isFraud column: 0\n"
     ]
    }
   ],
   "source": [
    "# Check for missing values in the isFraud column\n",
    "missing_values = train_data['isFraud'].isnull().sum()\n",
    "\n",
    "# Print the count of missing values\n",
    "print(\"Number of missing values in isFraud column:\", missing_values)"
   ]
  },
  {
   "cell_type": "markdown",
   "id": "892911bb-451c-4b14-826a-3be5d4df4a20",
   "metadata": {},
   "source": [
    "`TransactionDT`"
   ]
  },
  {
   "cell_type": "code",
   "execution_count": 15,
   "id": "af388d35-632e-4f8b-9d92-a116c81451f1",
   "metadata": {},
   "outputs": [
    {
     "name": "stdout",
     "output_type": "stream",
     "text": [
      "TransactionDT\n",
      "9474817     8\n",
      "11576951    5\n",
      "4397066     5\n",
      "7236588     5\n",
      "1544629     4\n",
      "           ..\n",
      "4629634     1\n",
      "4629631     1\n",
      "4629557     1\n",
      "4629466     1\n",
      "15811131    1\n",
      "Name: count, Length: 573349, dtype: int64\n"
     ]
    }
   ],
   "source": [
    "transactiondt_values = train_data['TransactionDT'].value_counts()\n",
    "print(transactiondt_values)"
   ]
  },
  {
   "cell_type": "code",
   "execution_count": 16,
   "id": "6a920bba-cb1f-401e-b9c8-b4d576e6608a",
   "metadata": {},
   "outputs": [
    {
     "name": "stdout",
     "output_type": "stream",
     "text": [
      "Number of missing values in TransactionDT column: 0\n"
     ]
    }
   ],
   "source": [
    "# Check for missing values in the TransactionDT column\n",
    "TransactionDT_missing_values = train_data['TransactionDT'].isnull().sum()\n",
    "\n",
    "# Print the count of missing values\n",
    "print(\"Number of missing values in TransactionDT column:\", TransactionDT_missing_values)"
   ]
  },
  {
   "cell_type": "markdown",
   "id": "6f8c2db7-27ea-4e3a-a028-3fcccad0be9c",
   "metadata": {},
   "source": [
    "`TransactionAmt`"
   ]
  },
  {
   "cell_type": "code",
   "execution_count": 17,
   "id": "cfe066ff-334c-410a-86e0-50e7faf174f7",
   "metadata": {},
   "outputs": [
    {
     "name": "stdout",
     "output_type": "stream",
     "text": [
      "TransactionAmt\n",
      "59.000     30582\n",
      "117.000    28933\n",
      "107.950    23954\n",
      "57.950     23600\n",
      "100.000    20362\n",
      "           ...  \n",
      "215.550        1\n",
      "298.600        1\n",
      "203.270        1\n",
      "105.614        1\n",
      "400.780        1\n",
      "Name: count, Length: 20902, dtype: int64\n"
     ]
    }
   ],
   "source": [
    "TransactionAmt_values = train_data['TransactionAmt'].value_counts()\n",
    "print(TransactionAmt_values)"
   ]
  },
  {
   "cell_type": "code",
   "execution_count": 56,
   "id": "ec96c155-f31e-4305-a31d-1a4fa3df4b40",
   "metadata": {},
   "outputs": [
    {
     "name": "stdout",
     "output_type": "stream",
     "text": [
      "Number of missing values in TransactionAmt column: 0\n"
     ]
    }
   ],
   "source": [
    "# Check for missing values in the TransactionAmt column\n",
    "TransactionAmt_missing_values = train_data['TransactionAmt'].isnull().sum()\n",
    "\n",
    "# Print the count of missing values\n",
    "print(\"Number of missing values in TransactionAmt column:\", TransactionAmt_missing_values)"
   ]
  },
  {
   "cell_type": "markdown",
   "id": "4149a2c8-182c-471a-b75d-e40b69f0f4f4",
   "metadata": {},
   "source": [
    "`ProductCD`"
   ]
  },
  {
   "cell_type": "code",
   "execution_count": 19,
   "id": "83bc5608-80fa-45bf-b233-88e5e59db9b6",
   "metadata": {},
   "outputs": [
    {
     "name": "stdout",
     "output_type": "stream",
     "text": [
      "ProductCD\n",
      "W    439670\n",
      "C     68519\n",
      "R     37699\n",
      "H     33024\n",
      "S     11628\n",
      "Name: count, dtype: int64\n"
     ]
    }
   ],
   "source": [
    "ProductCD_values = train_data['ProductCD'].value_counts()\n",
    "print(ProductCD_values)"
   ]
  },
  {
   "cell_type": "code",
   "execution_count": 20,
   "id": "50f4e854-08a4-42da-aac3-031c907a68ae",
   "metadata": {},
   "outputs": [
    {
     "name": "stdout",
     "output_type": "stream",
     "text": [
      "Number of missing values in ProductCD column: 0\n"
     ]
    }
   ],
   "source": [
    "# Check for missing values in the TransactionDT column\n",
    "ProductCD_missing_values = train_data['ProductCD'].isnull().sum()\n",
    "\n",
    "# Print the count of missing values\n",
    "print(\"Number of missing values in ProductCD column:\", ProductCD_missing_values)"
   ]
  },
  {
   "cell_type": "markdown",
   "id": "40079c7c-1d36-4ed9-ae8d-f6fe8c153e93",
   "metadata": {},
   "source": [
    "Group 1 Summary:\n",
    "- No missing values\n",
    "- All columns are int64\n",
    "- Need to figure out what product codes: W, C, R, H, S mean?"
   ]
  },
  {
   "cell_type": "markdown",
   "id": "bea64305-9dba-4250-a7b2-7c92f6691f40",
   "metadata": {},
   "source": [
    "<b>Group 2: Card Information</b> \n",
    "- Columns: `card1`, `card2`, `card3`, `card4`, `card5`, `card6`\n",
    "- Description: payment card information, such as card type, card category, issue bank, country, etc."
   ]
  },
  {
   "cell_type": "markdown",
   "id": "8831b161-dd6b-40ef-8b89-d3f6208bcb47",
   "metadata": {},
   "source": [
    "`card1`"
   ]
  },
  {
   "cell_type": "code",
   "execution_count": 21,
   "id": "81b93311-f9a8-4f17-b7e1-1e6f60070160",
   "metadata": {},
   "outputs": [
    {
     "name": "stdout",
     "output_type": "stream",
     "text": [
      "card1\n",
      "7919     14932\n",
      "9500     14162\n",
      "15885    10361\n",
      "17188    10344\n",
      "15066     7945\n",
      "         ...  \n",
      "17084        1\n",
      "14620        1\n",
      "11440        1\n",
      "13231        1\n",
      "18038        1\n",
      "Name: count, Length: 13553, dtype: int64\n"
     ]
    }
   ],
   "source": [
    "# Count occurrences of each unique value in the card1 column\n",
    "card1_counts = train_data['card1'].value_counts()\n",
    "\n",
    "# Print the counts\n",
    "print(card1_counts)"
   ]
  },
  {
   "cell_type": "code",
   "execution_count": 22,
   "id": "573d0da8-a1c9-4eee-a015-b62fd4e9f2de",
   "metadata": {},
   "outputs": [
    {
     "name": "stdout",
     "output_type": "stream",
     "text": [
      "Number of missing values in card1 column: 0\n"
     ]
    }
   ],
   "source": [
    "# Check for missing values in the card1 column\n",
    "card1_missing_values = train_data['card1'].isnull().sum()\n",
    "\n",
    "# Print the count of missing values\n",
    "print(\"Number of missing values in card1 column:\", card1_missing_values)"
   ]
  },
  {
   "cell_type": "markdown",
   "id": "fc903ea2-af2e-4c3b-9a73-bd17769e258e",
   "metadata": {},
   "source": [
    "`card2`"
   ]
  },
  {
   "cell_type": "code",
   "execution_count": 23,
   "id": "32a5610f-3305-4a68-b542-16cfc8786516",
   "metadata": {},
   "outputs": [
    {
     "name": "stdout",
     "output_type": "stream",
     "text": [
      "card2\n",
      "321.0    48935\n",
      "111.0    45191\n",
      "555.0    41995\n",
      "490.0    38145\n",
      "583.0    21803\n",
      "         ...  \n",
      "388.0       39\n",
      "153.0       38\n",
      "557.0       37\n",
      "473.0       18\n",
      "582.0       14\n",
      "Name: count, Length: 500, dtype: int64\n"
     ]
    }
   ],
   "source": [
    "# Count occurrences of each unique value in the card2 column\n",
    "card2_counts = train_data['card2'].value_counts()\n",
    "\n",
    "# Print the counts\n",
    "print(card2_counts)"
   ]
  },
  {
   "cell_type": "code",
   "execution_count": 24,
   "id": "2f3860bf-ba98-421b-94e1-8835885b6f83",
   "metadata": {},
   "outputs": [
    {
     "name": "stdout",
     "output_type": "stream",
     "text": [
      "Number of missing values in card2 column: 8933\n"
     ]
    }
   ],
   "source": [
    "# Check for missing values in the card2 column\n",
    "card2_missing_values = train_data['card2'].isnull().sum()\n",
    "\n",
    "# Print the count of missing values\n",
    "print(\"Number of missing values in card2 column:\", card2_missing_values)"
   ]
  },
  {
   "cell_type": "markdown",
   "id": "ca46a78c-5565-4ef0-bed0-2635daaf23ab",
   "metadata": {},
   "source": [
    "`card3`"
   ]
  },
  {
   "cell_type": "code",
   "execution_count": 25,
   "id": "8142b14a-633f-4460-8072-1f1d616394ee",
   "metadata": {},
   "outputs": [
    {
     "name": "stdout",
     "output_type": "stream",
     "text": [
      "card3\n",
      "150.0    521287\n",
      "185.0     56346\n",
      "106.0      1571\n",
      "144.0      1252\n",
      "146.0      1252\n",
      "          ...  \n",
      "224.0         1\n",
      "199.0         1\n",
      "221.0         1\n",
      "209.0         1\n",
      "173.0         1\n",
      "Name: count, Length: 114, dtype: int64\n"
     ]
    }
   ],
   "source": [
    "# Count occurrences of each unique value in the card3 column\n",
    "card3_counts = train_data['card3'].value_counts()\n",
    "\n",
    "# Print the counts\n",
    "print(card3_counts)"
   ]
  },
  {
   "cell_type": "code",
   "execution_count": 26,
   "id": "fbbe9532-ec6a-4963-875b-dda09df44abb",
   "metadata": {},
   "outputs": [
    {
     "name": "stdout",
     "output_type": "stream",
     "text": [
      "Number of missing values in card3 column: 1565\n"
     ]
    }
   ],
   "source": [
    "# Check for missing values in the card3 column\n",
    "card3_missing_values = train_data['card3'].isnull().sum()\n",
    "\n",
    "# Print the count of missing values\n",
    "print(\"Number of missing values in card3 column:\", card3_missing_values)"
   ]
  },
  {
   "cell_type": "markdown",
   "id": "06ee4668-15b2-450f-bad9-b5e0d4580cee",
   "metadata": {},
   "source": [
    "`card4`"
   ]
  },
  {
   "cell_type": "code",
   "execution_count": 27,
   "id": "9fe6350e-07d4-46a0-a269-0f1c8e7fff08",
   "metadata": {},
   "outputs": [
    {
     "name": "stdout",
     "output_type": "stream",
     "text": [
      "card4\n",
      "visa                384767\n",
      "mastercard          189217\n",
      "american express      8328\n",
      "discover              6651\n",
      "Name: count, dtype: int64\n"
     ]
    }
   ],
   "source": [
    "# Count occurrences of each unique value in the card4 column\n",
    "card4_counts = train_data['card4'].value_counts()\n",
    "\n",
    "# Print the counts\n",
    "print(card4_counts)"
   ]
  },
  {
   "cell_type": "code",
   "execution_count": 28,
   "id": "b84830c9-f4d4-4d16-a156-7e7e8dbdc96e",
   "metadata": {},
   "outputs": [
    {
     "name": "stdout",
     "output_type": "stream",
     "text": [
      "Number of missing values in card4 column: 1577\n"
     ]
    }
   ],
   "source": [
    "# Check for missing values in the card4 column\n",
    "card4_missing_values = train_data['card4'].isnull().sum()\n",
    "\n",
    "# Print the count of missing values\n",
    "print(\"Number of missing values in card4 column:\", card4_missing_values)"
   ]
  },
  {
   "cell_type": "markdown",
   "id": "a77b7ca5-da9b-4331-bfcf-67904156a734",
   "metadata": {},
   "source": [
    "`card5`"
   ]
  },
  {
   "cell_type": "code",
   "execution_count": 29,
   "id": "62438713-793a-4c14-b429-a618c36302a1",
   "metadata": {},
   "outputs": [
    {
     "name": "stdout",
     "output_type": "stream",
     "text": [
      "card5\n",
      "226.0    296546\n",
      "224.0     81513\n",
      "166.0     57140\n",
      "102.0     29105\n",
      "117.0     25941\n",
      "          ...  \n",
      "221.0         1\n",
      "167.0         1\n",
      "115.0         1\n",
      "165.0         1\n",
      "234.0         1\n",
      "Name: count, Length: 119, dtype: int64\n"
     ]
    }
   ],
   "source": [
    "# Count occurrences of each unique value in the card5 column\n",
    "card5_counts = train_data['card5'].value_counts()\n",
    "\n",
    "# Print the counts\n",
    "print(card5_counts)"
   ]
  },
  {
   "cell_type": "code",
   "execution_count": 30,
   "id": "1dad3a7c-089d-404a-ac83-4666d60a2091",
   "metadata": {},
   "outputs": [
    {
     "name": "stdout",
     "output_type": "stream",
     "text": [
      "Number of missing values in card5 column: 4259\n"
     ]
    }
   ],
   "source": [
    "# Check for missing values in the card5 column\n",
    "card5_missing_values = train_data['card5'].isnull().sum()\n",
    "\n",
    "# Print the count of missing values\n",
    "print(\"Number of missing values in card5 column:\", card5_missing_values)"
   ]
  },
  {
   "cell_type": "markdown",
   "id": "b072f8a4-eeb9-49b0-af10-984220afd795",
   "metadata": {},
   "source": [
    "`card6`"
   ]
  },
  {
   "cell_type": "code",
   "execution_count": 31,
   "id": "7cef3cb7-0014-431c-90eb-d52e84a14af2",
   "metadata": {},
   "outputs": [
    {
     "name": "stdout",
     "output_type": "stream",
     "text": [
      "card6\n",
      "debit              439938\n",
      "credit             148986\n",
      "debit or credit        30\n",
      "charge card            15\n",
      "Name: count, dtype: int64\n"
     ]
    }
   ],
   "source": [
    "# Count occurrences of each unique value in the card6 column\n",
    "card6_counts = train_data['card6'].value_counts()\n",
    "\n",
    "# Print the counts\n",
    "print(card6_counts)"
   ]
  },
  {
   "cell_type": "code",
   "execution_count": 32,
   "id": "aafd4169-87cc-4f64-872e-db0049025817",
   "metadata": {},
   "outputs": [
    {
     "name": "stdout",
     "output_type": "stream",
     "text": [
      "Number of missing values in card6 column: 1571\n"
     ]
    }
   ],
   "source": [
    "# Check for missing values in the card6 column\n",
    "card6_missing_values = train_data['card6'].isnull().sum()\n",
    "\n",
    "# Print the count of missing values\n",
    "print(\"Number of missing values in card6 column:\", card6_missing_values)"
   ]
  },
  {
   "cell_type": "markdown",
   "id": "7b2fcef2-e542-404e-9e4a-9af6617ab27d",
   "metadata": {},
   "source": [
    "Group 2 Summary:\n",
    "- All columns are int64\n",
    "- `card4` has unique values of `visa`, `mastercard`, `american express`, and `disover`\n",
    "- `card6` has unique values of `debit`, `credit`, `debit or credit`, `charge card`\n",
    "- There are no missing values in `card1`\n",
    "- There are missing values in columns: `card2` = 8933, `card3` = 1565, `card4` = 1577, `card5` = 4259, `card6` = 1571"
   ]
  },
  {
   "cell_type": "markdown",
   "id": "47af3e9c-0a91-419d-9368-2ed31d290b77",
   "metadata": {},
   "source": [
    "<b>Handle Missing Values for Group 2:</b>"
   ]
  },
  {
   "cell_type": "markdown",
   "id": "b6b97717-c7c9-467a-835f-5be37525439b",
   "metadata": {},
   "source": [
    "Mode Imputation for Categorical Columns (`card4`, `card6`):\n",
    "- Mode Imputation: Replace missing values with the mode (most frequent value).\n",
    "    - Pros: Effective for categorical data.\n",
    "    - Cons: Can introduce bias if the mode is not representative."
   ]
  },
  {
   "cell_type": "code",
   "execution_count": 57,
   "id": "38213d34-511a-4da2-9360-689b55942808",
   "metadata": {},
   "outputs": [],
   "source": [
    "train_data['card4'].fillna(train_data['card4'].mode()[0], inplace=True)\n",
    "train_data['card6'].fillna(train_data['card6'].mode()[0], inplace=True)"
   ]
  },
  {
   "cell_type": "markdown",
   "id": "69a980ea-068a-4269-88e3-0e23d798de33",
   "metadata": {},
   "source": [
    "KNN Imputation for Numerical Columns (`card2`, `card3`, `card5`):\n",
    "- K-Nearest Neighbors (KNN) Imputation: Use the KNN algorithm to impute missing values based on similar rows.\n",
    "    - Pros: More sophisticated; can capture complex relationships in the data.\n",
    "    - Cons: Computationally expensive; may introduce bias if the data has clusters.\n",
    "python\n"
   ]
  },
  {
   "cell_type": "code",
   "execution_count": 60,
   "id": "f82302ad-8818-4df2-8497-dfdf406c18e0",
   "metadata": {},
   "outputs": [],
   "source": [
    "imputer = KNNImputer(n_neighbors=5)\n",
    "train_data[['card2', 'card3', 'card5']] = imputer.fit_transform(train_data[['card2', 'card3', 'card5']])"
   ]
  },
  {
   "cell_type": "markdown",
   "id": "2d9a4585-aca7-45a4-8fc1-0a368fdbaaa2",
   "metadata": {},
   "source": [
    "Comined with Missing Indicators in case Missingness is Informative:"
   ]
  },
  {
   "cell_type": "code",
   "execution_count": 61,
   "id": "4520f6e7-ea1e-43cc-b105-d4ea82079c59",
   "metadata": {},
   "outputs": [],
   "source": [
    "train_data['card2_missing'] = train_data['card2'].isnull().astype(int)\n",
    "train_data['card3_missing'] = train_data['card3'].isnull().astype(int)\n",
    "train_data['card5_missing'] = train_data['card5'].isnull().astype(int)"
   ]
  },
  {
   "cell_type": "markdown",
   "id": "8445c7fd-d0cb-460e-aeb7-3488a0dc51a1",
   "metadata": {},
   "source": [
    "<b>Group 3: Address Information</b>\n",
    "- Columns: `addr1`, `addr2`, `dist1`, `dist2`\n",
    "- Description:\n",
    "   - address: both addresses are for the purchaser\n",
    "   - addr1: as billing region\n",
    "   - addr2: as billing country\n",
    "   - dist: distances between (not limited) billing address, mailing address, zip code, IP address, phone area, etc."
   ]
  },
  {
   "cell_type": "markdown",
   "id": "ff22b849-8e05-46b5-b4e1-9de6717e21a5",
   "metadata": {},
   "source": [
    "`addr1`"
   ]
  },
  {
   "cell_type": "code",
   "execution_count": 33,
   "id": "98d7fdcf-4ad6-4b65-82a0-eb90bffb0070",
   "metadata": {},
   "outputs": [
    {
     "name": "stdout",
     "output_type": "stream",
     "text": [
      "addr1\n",
      "299.0    46335\n",
      "325.0    42751\n",
      "204.0    42020\n",
      "264.0    39870\n",
      "330.0    26287\n",
      "         ...  \n",
      "386.0        1\n",
      "101.0        1\n",
      "353.0        1\n",
      "516.0        1\n",
      "245.0        1\n",
      "Name: count, Length: 332, dtype: int64\n"
     ]
    }
   ],
   "source": [
    "# Count occurrences of each unique value in the addr1 column\n",
    "addr1_counts = train_data['addr1'].value_counts()\n",
    "\n",
    "# Print the counts\n",
    "print(addr1_counts)"
   ]
  },
  {
   "cell_type": "code",
   "execution_count": 34,
   "id": "f18b846d-ae53-4e0d-bc8f-1dd0e57a57aa",
   "metadata": {},
   "outputs": [
    {
     "name": "stdout",
     "output_type": "stream",
     "text": [
      "Number of missing values in addr1 column: 65706\n"
     ]
    }
   ],
   "source": [
    "# Check for missing values in the addr1 column\n",
    "addr1_missing_values = train_data['addr1'].isnull().sum()\n",
    "\n",
    "# Print the count of missing values\n",
    "print(\"Number of missing values in addr1 column:\", addr1_missing_values)"
   ]
  },
  {
   "cell_type": "markdown",
   "id": "9670945a-52d1-407b-878c-a445b2a7509e",
   "metadata": {},
   "source": [
    "`addr2`"
   ]
  },
  {
   "cell_type": "code",
   "execution_count": 35,
   "id": "e7641553-de6c-4442-a470-da1c57f46659",
   "metadata": {},
   "outputs": [
    {
     "name": "stdout",
     "output_type": "stream",
     "text": [
      "addr2\n",
      "87.0    520481\n",
      "60.0      3084\n",
      "96.0       638\n",
      "32.0        91\n",
      "65.0        82\n",
      "         ...  \n",
      "49.0         1\n",
      "14.0         1\n",
      "25.0         1\n",
      "22.0         1\n",
      "93.0         1\n",
      "Name: count, Length: 74, dtype: int64\n"
     ]
    }
   ],
   "source": [
    "# Count occurrences of each unique value in the addr2 column\n",
    "addr2_counts = train_data['addr2'].value_counts()\n",
    "\n",
    "# Print the counts\n",
    "print(addr2_counts)"
   ]
  },
  {
   "cell_type": "code",
   "execution_count": 36,
   "id": "54abd5c2-b7a4-4802-a724-11a7c16de54c",
   "metadata": {},
   "outputs": [
    {
     "name": "stdout",
     "output_type": "stream",
     "text": [
      "Number of missing values in addr2 column: 65706\n"
     ]
    }
   ],
   "source": [
    "# Check for missing values in the addr2 column\n",
    "addr2_missing_values = train_data['addr2'].isnull().sum()\n",
    "\n",
    "# Print the count of missing values\n",
    "print(\"Number of missing values in addr2 column:\", addr2_missing_values)"
   ]
  },
  {
   "cell_type": "markdown",
   "id": "667e29ae-f6bc-4437-b9ff-50b295a92529",
   "metadata": {},
   "source": [
    "`dist1`"
   ]
  },
  {
   "cell_type": "code",
   "execution_count": 37,
   "id": "a25b6fda-c3fe-4238-9df9-815f30ea9e51",
   "metadata": {},
   "outputs": [
    {
     "name": "stdout",
     "output_type": "stream",
     "text": [
      "dist1\n",
      "0.0       19824\n",
      "1.0       18330\n",
      "2.0       17028\n",
      "4.0       13067\n",
      "3.0       12808\n",
      "          ...  \n",
      "4171.0        1\n",
      "1670.0        1\n",
      "2003.0        1\n",
      "1973.0        1\n",
      "1907.0        1\n",
      "Name: count, Length: 2651, dtype: int64\n"
     ]
    }
   ],
   "source": [
    "# Count occurrences of each unique value in the dist1 column\n",
    "dist1_counts = train_data['dist1'].value_counts()\n",
    "\n",
    "# Print the counts\n",
    "print(dist1_counts)"
   ]
  },
  {
   "cell_type": "code",
   "execution_count": 38,
   "id": "d0ada39c-53fa-4c4d-970f-482fa04315b8",
   "metadata": {},
   "outputs": [
    {
     "name": "stdout",
     "output_type": "stream",
     "text": [
      "Number of missing values in dist1 column: 352271\n"
     ]
    }
   ],
   "source": [
    "# Check for missing values in the dist1 column\n",
    "dist1_missing_values = train_data['dist1'].isnull().sum()\n",
    "\n",
    "# Print the count of missing values\n",
    "print(\"Number of missing values in dist1 column:\", dist1_missing_values)"
   ]
  },
  {
   "cell_type": "markdown",
   "id": "9735291e-6f50-4299-90a5-4387f0a1d6f6",
   "metadata": {},
   "source": [
    "`dist2`"
   ]
  },
  {
   "cell_type": "code",
   "execution_count": 39,
   "id": "a31aedb2-7c0b-40f2-ba76-52642569b616",
   "metadata": {},
   "outputs": [
    {
     "name": "stdout",
     "output_type": "stream",
     "text": [
      "dist2\n",
      "7.0       5687\n",
      "0.0       3519\n",
      "1.0       1374\n",
      "9.0        742\n",
      "4.0        659\n",
      "          ... \n",
      "2015.0       1\n",
      "2124.0       1\n",
      "1347.0       1\n",
      "1776.0       1\n",
      "2296.0       1\n",
      "Name: count, Length: 1751, dtype: int64\n"
     ]
    }
   ],
   "source": [
    "# Count occurrences of each unique value in the dist2 column\n",
    "dist2_counts = train_data['dist2'].value_counts()\n",
    "\n",
    "# Print the counts\n",
    "print(dist2_counts)"
   ]
  },
  {
   "cell_type": "code",
   "execution_count": 40,
   "id": "110dc7bb-d42a-4cdd-bc13-c3f5c090a44f",
   "metadata": {},
   "outputs": [
    {
     "name": "stdout",
     "output_type": "stream",
     "text": [
      "Number of missing values in dist2 column: 552913\n"
     ]
    }
   ],
   "source": [
    "# Check for missing values in the dist1 column\n",
    "dist2_missing_values = train_data['dist2'].isnull().sum()\n",
    "\n",
    "# Print the count of missing values\n",
    "print(\"Number of missing values in dist2 column:\", dist2_missing_values)"
   ]
  },
  {
   "cell_type": "markdown",
   "id": "8fc4f1a3-593b-43eb-a006-14d24d045de0",
   "metadata": {},
   "source": [
    "Summary of Group 3:\n",
    "- All columns are integers\n",
    "- `add1` and `add2` have the same amount of missing values of 65,706.\n",
    "- `dist1` has 352,271 missing values\n",
    "- `dist2` has 552,913 missing values"
   ]
  },
  {
   "cell_type": "markdown",
   "id": "bc06196a-9274-4144-91d5-064c6e0d8031",
   "metadata": {},
   "source": [
    "Handling missing values for `add1` and `add2`"
   ]
  },
  {
   "cell_type": "markdown",
   "id": "0a95e947-1449-4f60-a342-3a9ab9e06974",
   "metadata": {},
   "source": [
    "These columns represent categorical data. Assigning a placeholder value such as -1 for missing entries can be useful. This clearly indicates that the value is missing without introducing any bias."
   ]
  },
  {
   "cell_type": "code",
   "execution_count": 63,
   "id": "a1af5703-363d-4cfb-9881-c80c1f34ec5d",
   "metadata": {},
   "outputs": [],
   "source": [
    "# Assign a placeholder value for missing values in addr1 and addr2\n",
    "train_data['addr1'].fillna(-1, inplace=True)\n",
    "train_data['addr2'].fillna(-1, inplace=True)"
   ]
  },
  {
   "cell_type": "markdown",
   "id": "d43e029e-28a2-4bdc-bf27-743be369355b",
   "metadata": {},
   "source": [
    "Handling missing values for `dist1` and `dist2`"
   ]
  },
  {
   "cell_type": "code",
   "execution_count": 64,
   "id": "68f71545-c4f8-4d3c-b768-a3ebdd625582",
   "metadata": {},
   "outputs": [],
   "source": [
    "# Assign a placeholder value for missing values in dist1 and dist2\n",
    "train_data['dist1'].fillna(-1, inplace=True)\n",
    "train_data['dist2'].fillna(-1, inplace=True)"
   ]
  },
  {
   "cell_type": "code",
   "execution_count": 65,
   "id": "cedb67e2-33d9-4119-85e4-0b0fc7408128",
   "metadata": {},
   "outputs": [
    {
     "name": "stdout",
     "output_type": "stream",
     "text": [
      "   addr1  addr2  dist1  dist2\n",
      "0  315.0   87.0   19.0   -1.0\n",
      "1  325.0   87.0   -1.0   -1.0\n",
      "2  330.0   87.0  287.0   -1.0\n",
      "3  476.0   87.0   -1.0   -1.0\n",
      "4  420.0   87.0   -1.0   -1.0\n"
     ]
    }
   ],
   "source": [
    "# Print the updated columns to verify the changes\n",
    "print(train_data[['addr1', 'addr2', 'dist1', 'dist2']].head())"
   ]
  },
  {
   "cell_type": "markdown",
   "id": "3841738e-d1f7-4efd-882c-0a0a816956ee",
   "metadata": {},
   "source": [
    "For numerical columns, assigning a specific value that indicates missing data (e.g., -1) can help. This approach is particularly useful if the data could be crucial and we want to explicitly mark it as missing."
   ]
  },
  {
   "cell_type": "markdown",
   "id": "e074df6f-3b61-4e0d-ad2a-ad66c62bcbe9",
   "metadata": {},
   "source": [
    "<b>Group 4: Email Information</b>\n",
    "- Columns: `P_emaildomain`, `R_emaildomain`\n",
    "- Description: purchaser and recipient email domain\n",
    "- Hint:\n",
    "   - Certain transactions don't need recipient, so R_emaildomain is null."
   ]
  },
  {
   "cell_type": "markdown",
   "id": "87a13c98-11a4-462c-aa10-9114f98a4d50",
   "metadata": {},
   "source": [
    "`P_emaildomain`"
   ]
  },
  {
   "cell_type": "code",
   "execution_count": 41,
   "id": "b11b8e99-be7c-45b0-b5b8-e3541eddd8c3",
   "metadata": {},
   "outputs": [
    {
     "name": "stdout",
     "output_type": "stream",
     "text": [
      "P_emaildomain\n",
      "gmail.com           228355\n",
      "yahoo.com           100934\n",
      "hotmail.com          45250\n",
      "anonymous.com        36998\n",
      "aol.com              28289\n",
      "comcast.net           7888\n",
      "icloud.com            6267\n",
      "outlook.com           5096\n",
      "msn.com               4092\n",
      "att.net               4033\n",
      "live.com              3041\n",
      "sbcglobal.net         2970\n",
      "verizon.net           2705\n",
      "ymail.com             2396\n",
      "bellsouth.net         1909\n",
      "yahoo.com.mx          1543\n",
      "me.com                1522\n",
      "cox.net               1393\n",
      "optonline.net         1011\n",
      "charter.net            816\n",
      "live.com.mx            749\n",
      "rocketmail.com         664\n",
      "mail.com               559\n",
      "earthlink.net          514\n",
      "gmail                  496\n",
      "outlook.es             438\n",
      "mac.com                436\n",
      "juno.com               322\n",
      "aim.com                315\n",
      "hotmail.es             305\n",
      "roadrunner.com         305\n",
      "windstream.net         305\n",
      "hotmail.fr             295\n",
      "frontier.com           280\n",
      "embarqmail.com         260\n",
      "web.de                 240\n",
      "netzero.com            230\n",
      "twc.com                230\n",
      "prodigy.net.mx         207\n",
      "centurylink.net        205\n",
      "netzero.net            196\n",
      "frontiernet.net        195\n",
      "q.com                  189\n",
      "suddenlink.net         175\n",
      "cfl.rr.com             172\n",
      "sc.rr.com              164\n",
      "cableone.net           159\n",
      "gmx.de                 149\n",
      "yahoo.fr               143\n",
      "yahoo.es               134\n",
      "hotmail.co.uk          112\n",
      "protonmail.com          76\n",
      "yahoo.de                74\n",
      "ptd.net                 68\n",
      "live.fr                 56\n",
      "yahoo.co.uk             49\n",
      "hotmail.de              43\n",
      "servicios-ta.com        35\n",
      "yahoo.co.jp             32\n",
      "Name: count, dtype: int64\n"
     ]
    }
   ],
   "source": [
    "# Count occurrences of each unique value in the P_emaildomain column\n",
    "P_emaildomain_counts = train_data['P_emaildomain'].value_counts()\n",
    "\n",
    "# Print the counts\n",
    "print(P_emaildomain_counts)"
   ]
  },
  {
   "cell_type": "code",
   "execution_count": 42,
   "id": "de182b88-1bf0-4ba6-8118-3d3c71914ad3",
   "metadata": {},
   "outputs": [
    {
     "name": "stdout",
     "output_type": "stream",
     "text": [
      "Number of missing values in P_emaildomain column: 94456\n"
     ]
    }
   ],
   "source": [
    "# Check for missing values in the P_emaildomain column\n",
    "P_emaildomain_missing_values = train_data['P_emaildomain'].isnull().sum()\n",
    "\n",
    "# Print the count of missing values\n",
    "print(\"Number of missing values in P_emaildomain column:\", P_emaildomain_missing_values)"
   ]
  },
  {
   "cell_type": "markdown",
   "id": "a348a03e-06c7-4692-8013-f30d285a8189",
   "metadata": {},
   "source": [
    "`R_emaildomain`"
   ]
  },
  {
   "cell_type": "code",
   "execution_count": 43,
   "id": "ab658298-401d-4843-bdc5-d105d37827ac",
   "metadata": {},
   "outputs": [
    {
     "name": "stdout",
     "output_type": "stream",
     "text": [
      "R_emaildomain\n",
      "gmail.com           57147\n",
      "hotmail.com         27509\n",
      "anonymous.com       20529\n",
      "yahoo.com           11842\n",
      "aol.com              3701\n",
      "outlook.com          2507\n",
      "comcast.net          1812\n",
      "yahoo.com.mx         1508\n",
      "icloud.com           1398\n",
      "msn.com               852\n",
      "live.com              762\n",
      "live.com.mx           754\n",
      "verizon.net           620\n",
      "me.com                556\n",
      "sbcglobal.net         552\n",
      "cox.net               459\n",
      "outlook.es            433\n",
      "att.net               430\n",
      "bellsouth.net         422\n",
      "hotmail.fr            293\n",
      "hotmail.es            292\n",
      "web.de                237\n",
      "mac.com               218\n",
      "ymail.com             207\n",
      "prodigy.net.mx        207\n",
      "optonline.net         187\n",
      "gmx.de                147\n",
      "yahoo.fr              137\n",
      "charter.net           127\n",
      "mail.com              122\n",
      "hotmail.co.uk         105\n",
      "gmail                  95\n",
      "earthlink.net          79\n",
      "yahoo.de               75\n",
      "rocketmail.com         69\n",
      "embarqmail.com         68\n",
      "scranton.edu           63\n",
      "yahoo.es               57\n",
      "live.fr                55\n",
      "roadrunner.com         53\n",
      "juno.com               53\n",
      "frontier.com           52\n",
      "windstream.net         47\n",
      "hotmail.de             42\n",
      "protonmail.com         41\n",
      "yahoo.co.uk            39\n",
      "cfl.rr.com             37\n",
      "aim.com                36\n",
      "servicios-ta.com       35\n",
      "yahoo.co.jp            33\n",
      "twc.com                29\n",
      "ptd.net                27\n",
      "cableone.net           27\n",
      "q.com                  25\n",
      "suddenlink.net         25\n",
      "frontiernet.net        14\n",
      "netzero.com            14\n",
      "centurylink.net        12\n",
      "netzero.net             9\n",
      "sc.rr.com               8\n",
      "Name: count, dtype: int64\n"
     ]
    }
   ],
   "source": [
    "# Count occurrences of each unique value in the R_emaildomain column\n",
    "R_emaildomain_counts = train_data['R_emaildomain'].value_counts()\n",
    "\n",
    "# Print the counts\n",
    "print(R_emaildomain_counts)"
   ]
  },
  {
   "cell_type": "code",
   "execution_count": 44,
   "id": "fee27436-05b0-4508-bfc1-8d375551c8b2",
   "metadata": {},
   "outputs": [
    {
     "name": "stdout",
     "output_type": "stream",
     "text": [
      "Number of missing values in R_emaildomain column: 453249\n"
     ]
    }
   ],
   "source": [
    "# Check for missing values in the R_emaildomain column\n",
    "R_emaildomain_missing_values = train_data['R_emaildomain'].isnull().sum()\n",
    "\n",
    "# Print the count of missing values\n",
    "print(\"Number of missing values in R_emaildomain column:\", R_emaildomain_missing_values)"
   ]
  },
  {
   "cell_type": "markdown",
   "id": "025345cd-b5ff-4cff-ac16-1d3e73260115",
   "metadata": {},
   "source": [
    "Handeling missing values for Group 4:\n",
    "- Given the nature of the `P_emaildomain` and `R_emaildomain` columns, here’s how I will handle them:\n",
    "    - `P_emaildomain` (Purchaser email domain): Missing values in this column can be replaced with a placeholder like \"unknown\", as the email domain is crucial information and we shouldn't make any assumptions about it.\n",
    "    - `R_emaildomain` (Recipient email domain): Since not all transactions require a recipient, missing values in this column can be replaced with a specific placeholder like \"no_recipient\" to indicate that no recipient email was provided."
   ]
  },
  {
   "cell_type": "code",
   "execution_count": 66,
   "id": "095d8171-e3be-49b6-8b9d-74e2643dd7b0",
   "metadata": {},
   "outputs": [
    {
     "name": "stdout",
     "output_type": "stream",
     "text": [
      "Number of missing values after filling:\n",
      "P_emaildomain: 0\n",
      "R_emaildomain: 0\n",
      "  P_emaildomain R_emaildomain\n",
      "0       unknown  no_recipient\n",
      "1     gmail.com  no_recipient\n",
      "2   outlook.com  no_recipient\n",
      "3     yahoo.com  no_recipient\n",
      "4     gmail.com  no_recipient\n"
     ]
    }
   ],
   "source": [
    "# Replace missing values in P_emaildomain with 'unknown'\n",
    "train_data['P_emaildomain'].fillna('unknown', inplace=True)\n",
    "\n",
    "# Replace missing values in R_emaildomain with 'no_recipient'\n",
    "train_data['R_emaildomain'].fillna('no_recipient', inplace=True)\n",
    "\n",
    "# Print the count of missing values again to verify they have been filled\n",
    "print(\"Number of missing values after filling:\")\n",
    "print(\"P_emaildomain:\", train_data['P_emaildomain'].isnull().sum())\n",
    "print(\"R_emaildomain:\", train_data['R_emaildomain'].isnull().sum())\n",
    "\n",
    "# Print the first few rows of the updated columns to verify the changes\n",
    "print(train_data[['P_emaildomain', 'R_emaildomain']].head())"
   ]
  },
  {
   "cell_type": "markdown",
   "id": "eb56cd98-0258-4199-a584-7f2d8dc46773",
   "metadata": {},
   "source": [
    "<b>Group 5: C Columns</b>\n",
    "- Columns: `C1` to `C14`\n",
    "- Description: counting, such as how many addresses are found to be associated with the payment card, etc. The actual meaning is masked.\n",
    "- Hint:\n",
    "    - Counting of various entities like devices, IP addresses, billing addresses, and more. These counts apply to both purchasers and recipients, effectively doubling the number of variables."
   ]
  },
  {
   "cell_type": "code",
   "execution_count": 45,
   "id": "24bacdfb-4e9a-4ecb-893b-364ef59a6cfb",
   "metadata": {},
   "outputs": [
    {
     "name": "stdout",
     "output_type": "stream",
     "text": [
      "Data types of columns C1 to C14:\n",
      "C1     float64\n",
      "C2     float64\n",
      "C3     float64\n",
      "C4     float64\n",
      "C5     float64\n",
      "C6     float64\n",
      "C7     float64\n",
      "C8     float64\n",
      "C9     float64\n",
      "C10    float64\n",
      "C11    float64\n",
      "C12    float64\n",
      "C13    float64\n",
      "C14    float64\n",
      "dtype: object\n",
      "\n",
      "Missing values in columns C1 to C14:\n",
      "C1     0\n",
      "C2     0\n",
      "C3     0\n",
      "C4     0\n",
      "C5     0\n",
      "C6     0\n",
      "C7     0\n",
      "C8     0\n",
      "C9     0\n",
      "C10    0\n",
      "C11    0\n",
      "C12    0\n",
      "C13    0\n",
      "C14    0\n",
      "dtype: int64\n"
     ]
    }
   ],
   "source": [
    "# Check data types and missing values of columns C1 to C14\n",
    "C1_to_C14_data = train_data.loc[:, 'C1':'C14']\n",
    "print(\"Data types of columns C1 to C14:\")\n",
    "print(C1_to_C14_data.dtypes)\n",
    "\n",
    "print(\"\\nMissing values in columns C1 to C14:\")\n",
    "print(C1_to_C14_data.isnull().sum())"
   ]
  },
  {
   "cell_type": "markdown",
   "id": "75661249-0ab1-4546-b82c-d2e01892fde1",
   "metadata": {},
   "source": [
    "<b>Group 6: D Columns</b>\n",
    "- Columns: `D1` to `D15`\n",
    "- Description: timedelta, such as days between previous transaction, etc."
   ]
  },
  {
   "cell_type": "code",
   "execution_count": 46,
   "id": "63274638-686e-42ef-a47d-900f06fdc26f",
   "metadata": {},
   "outputs": [
    {
     "name": "stdout",
     "output_type": "stream",
     "text": [
      "Data types of columns D1 to D15:\n",
      "D1     float64\n",
      "D2     float64\n",
      "D3     float64\n",
      "D4     float64\n",
      "D5     float64\n",
      "D6     float64\n",
      "D7     float64\n",
      "D8     float64\n",
      "D9     float64\n",
      "D10    float64\n",
      "D11    float64\n",
      "D12    float64\n",
      "D13    float64\n",
      "D14    float64\n",
      "D15    float64\n",
      "dtype: object\n",
      "\n",
      "Missing values in columns D1 to D15:\n",
      "D1       1269\n",
      "D2     280797\n",
      "D3     262878\n",
      "D4     168922\n",
      "D5     309841\n",
      "D6     517353\n",
      "D7     551623\n",
      "D8     515614\n",
      "D9     515614\n",
      "D10     76022\n",
      "D11    279287\n",
      "D12    525823\n",
      "D13    528588\n",
      "D14    528353\n",
      "D15     89113\n",
      "dtype: int64\n"
     ]
    }
   ],
   "source": [
    "# Check data types and missing values of columns D1 to D15\n",
    "D1_to_D15_data = train_data.loc[:, 'D1':'D15']\n",
    "print(\"Data types of columns D1 to D15:\")\n",
    "print(D1_to_D15_data.dtypes)\n",
    "\n",
    "print(\"\\nMissing values in columns D1 to D15:\")\n",
    "print(D1_to_D15_data.isnull().sum())"
   ]
  },
  {
   "cell_type": "markdown",
   "id": "7fae63c5-2c9b-4df1-a599-eb5c0ba45b43",
   "metadata": {},
   "source": [
    "Steps to Address Missing Values in Group 6: D Columns\n",
    "- Understanding the nature of missing values: Analyzing the distribution and pattern of missing values across `D1` to `D15`. Missing values range from as low as 1,269 in `D1` to as high as 551,623 in `D7`."
   ]
  },
  {
   "cell_type": "markdown",
   "id": "99568eb7-436e-4aab-b71c-1210be66a8ba",
   "metadata": {},
   "source": [
    "Since these values could indeed signify no previous transaction(at least within the data's timeframe) rather than being missing, imputing with zero might be more appropriate. This approach acknowledges that a missing value in these columns could simply mean that there was no previous transaction to calculate a timedelta from."
   ]
  },
  {
   "cell_type": "code",
   "execution_count": 72,
   "id": "7eed7bc2-4fb9-43f1-b8d2-ff9b0e58cc23",
   "metadata": {},
   "outputs": [
    {
     "name": "stdout",
     "output_type": "stream",
     "text": [
      "Missing values after imputation:\n",
      "D2     0\n",
      "D3     0\n",
      "D4     0\n",
      "D5     0\n",
      "D6     0\n",
      "D7     0\n",
      "D8     0\n",
      "D9     0\n",
      "D11    0\n",
      "D12    0\n",
      "D13    0\n",
      "D14    0\n",
      "dtype: int64\n"
     ]
    }
   ],
   "source": [
    "# Columns to impute\n",
    "d_columns_to_impute = ['D2', 'D3', 'D4', 'D5', 'D6', 'D7', 'D8', 'D9', 'D11', 'D12', 'D13', 'D14']\n",
    "\n",
    "# Impute missing values with zero for columns D2 to D9, D11 to D14\n",
    "train_data[d_columns_to_impute] = train_data[d_columns_to_impute].fillna(0)\n",
    "\n",
    "# Check if there are still missing values after imputation\n",
    "print(\"Missing values after imputation:\")\n",
    "print(train_data[d_columns_to_impute].isnull().sum())"
   ]
  },
  {
   "cell_type": "markdown",
   "id": "d8ae7024-aa17-4d9a-98b0-3a87c0f47c0a",
   "metadata": {},
   "source": [
    "<b>Group 7: M Columns</b>\n",
    "- Columns: `M1` to `M9`\n",
    "- Description: match, such as names on card and address, etc.\n",
    "- Hint: Mx is attribute of matching check, e.g. is phone areacode matched with billing zipcode, purchaser and recipient first/or last name match, etc."
   ]
  },
  {
   "cell_type": "code",
   "execution_count": 47,
   "id": "27b1a49c-abeb-4aa9-a0f5-a69f38429f68",
   "metadata": {},
   "outputs": [
    {
     "name": "stdout",
     "output_type": "stream",
     "text": [
      "Data types of columns M1 to M9:\n",
      "M1    object\n",
      "M2    object\n",
      "M3    object\n",
      "M4    object\n",
      "M5    object\n",
      "M6    object\n",
      "M7    object\n",
      "M8    object\n",
      "M9    object\n",
      "dtype: object\n",
      "\n",
      "Missing values in columns D1 to D15:\n",
      "M1    271100\n",
      "M2    271100\n",
      "M3    271100\n",
      "M4    281444\n",
      "M5    350482\n",
      "M6    169360\n",
      "M7    346265\n",
      "M8    346252\n",
      "M9    346252\n",
      "dtype: int64\n"
     ]
    }
   ],
   "source": [
    "# Check data types and missing values of columns D1 to D15\n",
    "M1_to_M9_data = train_data.loc[:, 'M1':'M9']\n",
    "print(\"Data types of columns M1 to M9:\")\n",
    "print(M1_to_M9_data.dtypes)\n",
    "\n",
    "print(\"\\nMissing values in columns D1 to D15:\")\n",
    "print(M1_to_M9_data.isnull().sum())"
   ]
  },
  {
   "cell_type": "markdown",
   "id": "84d6cc77-a44d-49bb-b444-529b42a272ec",
   "metadata": {},
   "source": [
    "Handling the missing values for Group 7:\n",
    "- All columns (`M1` to `M9`) have a significant number of missing values ranging from 169,360 in `M6` to 350,482 in `M5`.\n",
    "These columns are of type object, suggesting they contain categorical data related to matching attributes.\n",
    "- For categorical columns like `M1` to `M9`, a common approach is to impute missing values with a new category label that indicates missingness. This preserves the information that these values were initially missing and prevents biasing the model towards existing categories.\n",
    "- By using scikit-learn's SimpleImputer with strategy='constant' to replace missing values with a specified constant, which will be a new category label (e.g., `missing`)."
   ]
  },
  {
   "cell_type": "code",
   "execution_count": 71,
   "id": "16a73e51-e231-4e18-a44a-84fe786184ea",
   "metadata": {},
   "outputs": [
    {
     "name": "stdout",
     "output_type": "stream",
     "text": [
      "Missing values after imputation:\n",
      "M1    0\n",
      "M2    0\n",
      "M3    0\n",
      "M4    0\n",
      "M5    0\n",
      "M6    0\n",
      "M7    0\n",
      "M8    0\n",
      "M9    0\n",
      "dtype: int64\n"
     ]
    }
   ],
   "source": [
    "# Columns to impute\n",
    "m_columns_to_impute = ['M1', 'M2', 'M3', 'M4', 'M5', 'M6', 'M7', 'M8', 'M9']\n",
    "\n",
    "# Impute missing values with a new category \"missing\"\n",
    "imputer = SimpleImputer(strategy='constant', fill_value='missing')\n",
    "train_data[m_columns_to_impute] = imputer.fit_transform(train_data[m_columns_to_impute])\n",
    "\n",
    "# Check if there are still missing values after imputation\n",
    "print(\"Missing values after imputation:\")\n",
    "print(train_data[m_columns_to_impute].isnull().sum())"
   ]
  },
  {
   "cell_type": "markdown",
   "id": "ff39dab2-07e1-48cf-9a8b-32741a26e0ef",
   "metadata": {},
   "source": [
    "<b>Group 8: V Columns</b>\n",
    "- Columns: `V1` to `V340`\n",
    "- Description: Vesta engineered rich features, including ranking, counting, and other entity relations.\n",
    "- Hint:\n",
    "    - These columns might represent how frequently a payment card associated with an IP address or email appears within a 24-hour timeframe. All Vesta features are numerical, derived from counts of orders within a clustering, time-period, or condition, giving them a finite value and ordering. It's not recommended to treat any of them as categorical. However, if any of them happen to result in binary values by chance, it might be worth exploring further.\""
   ]
  },
  {
   "cell_type": "code",
   "execution_count": 48,
   "id": "c6f9507b-b517-4857-b492-3ec57ce437b4",
   "metadata": {},
   "outputs": [
    {
     "name": "stdout",
     "output_type": "stream",
     "text": [
      "Data types of columns V1 to V340:\n",
      "V1      float64\n",
      "V2      float64\n",
      "V3      float64\n",
      "V4      float64\n",
      "V5      float64\n",
      "         ...   \n",
      "V336    float64\n",
      "V337    float64\n",
      "V338    float64\n",
      "V339    float64\n",
      "V340    float64\n",
      "Length: 348, dtype: object\n",
      "\n",
      "Missing values in columns V1 to V340:\n",
      "V1      279287\n",
      "V2      279287\n",
      "V3      279287\n",
      "V4      279287\n",
      "V5      279287\n",
      "         ...  \n",
      "V336    508189\n",
      "V337    508189\n",
      "V338    508189\n",
      "V339    508189\n",
      "V340    590540\n",
      "Length: 348, dtype: int64\n"
     ]
    }
   ],
   "source": [
    "# Check data types and missing values of columns V1 to V340\n",
    "V1_to_V340_data = train_data.loc[:, 'V1':'V340']\n",
    "print(\"Data types of columns V1 to V340:\")\n",
    "print(V1_to_V340_data.dtypes)\n",
    "\n",
    "print(\"\\nMissing values in columns V1 to V340:\")\n",
    "print(V1_to_V340_data.isnull().sum())"
   ]
  },
  {
   "cell_type": "code",
   "execution_count": 49,
   "id": "b4659ddd-69a5-4ede-9e9a-57ff2e8cab26",
   "metadata": {},
   "outputs": [
    {
     "data": {
      "image/png": "[encoded data removed]",
      "text/plain": [
       "<Figure size 1200x800 with 1 Axes>"
      ]
     },
     "metadata": {},
     "output_type": "display_data"
    }
   ],
   "source": [
    "import pandas as pd\n",
    "import seaborn as sns\n",
    "import matplotlib.pyplot as plt\n",
    "\n",
    "# Visualize missing data patterns using a heatmap\n",
    "V1_to_V340_data = train_data.loc[:, 'V1':'V340']\n",
    "\n",
    "# Visualize missing data patterns\n",
    "plt.figure(figsize=(12, 8))\n",
    "sns.heatmap(V1_to_V340_data.isnull(), cbar=False, cmap='viridis')\n",
    "plt.title('Missing Values Heatmap')\n",
    "plt.xlabel('Columns')\n",
    "plt.ylabel('Rows')\n",
    "plt.show()"
   ]
  },
  {
   "cell_type": "code",
   "execution_count": 50,
   "id": "b00acbe7-1af0-494d-b27e-410a8b082769",
   "metadata": {},
   "outputs": [
    {
     "name": "stdout",
     "output_type": "stream",
     "text": [
      "Missing values summary:\n",
      "V340    590540\n",
      "V163    508595\n",
      "V161    508595\n",
      "V158    508595\n",
      "v157    508595\n",
      "         ...  \n",
      "V309        12\n",
      "V310        12\n",
      "V311        12\n",
      "V312        12\n",
      "V299        12\n",
      "Length: 348, dtype: int64\n"
     ]
    }
   ],
   "source": [
    "# Summary of missing values\n",
    "missing_summary = V1_to_V340_data.isnull().sum().sort_values(ascending=False)\n",
    "print(\"Missing values summary:\")\n",
    "print(missing_summary)"
   ]
  },
  {
   "cell_type": "markdown",
   "id": "060defe6-ab3d-4489-9e70-81016d9a20a0",
   "metadata": {},
   "source": [
    "The missing values in these columns might represent two things.\n",
    "1. <b>Absence of Events:</b> If a particular count is missing, it could imply that there were no events (e.g., no transactions associated with a particular IP address or email) during the specified timeframe.\n",
    "2. <b>Data Gaps:</b> Missing values might also arise from incomplete data collection or errors in the dataset."
   ]
  },
  {
   "cell_type": "markdown",
   "id": "64681b17-c172-47ab-b7f5-1dcc7f93cc8b",
   "metadata": {},
   "source": [
    "To handle these missing values appropriately, I will interpret the missing values as zero. \n",
    "- Since the features are counts, a missing value can reasonably be interpreted as zero, indicating no events were recorded for that specific feature and timeframe.\n",
    "- It is best practice to avoid imputation with mean or median. Using mean or median imputation might distort the data because it implies that there were some events, rather than none."
   ]
  },
  {
   "cell_type": "code",
   "execution_count": 73,
   "id": "e74650e5-9634-4d26-83dc-f93f2436a847",
   "metadata": {},
   "outputs": [
    {
     "name": "stdout",
     "output_type": "stream",
     "text": [
      "Missing values after replacing with zero:\n",
      "V1      0\n",
      "V2      0\n",
      "V3      0\n",
      "V4      0\n",
      "V5      0\n",
      "       ..\n",
      "V336    0\n",
      "V337    0\n",
      "V338    0\n",
      "V339    0\n",
      "V340    0\n",
      "Length: 348, dtype: int64\n"
     ]
    }
   ],
   "source": [
    "# Replace missing values with zero for V1 to V340 columns\n",
    "v_columns_to_impute = V1_to_V340_data.columns\n",
    "train_data[v_columns_to_impute] = train_data[v_columns_to_impute].fillna(0)\n",
    "\n",
    "# Check if there are still missing values after imputation\n",
    "print(\"Missing values after replacing with zero:\")\n",
    "print(train_data[v_columns_to_impute].isnull().sum())"
   ]
  },
  {
   "cell_type": "markdown",
   "id": "bd6b2a82-f9f5-4ae7-8603-4791da32d507",
   "metadata": {},
   "source": [
    "<b>Group 9: Identity Information</b>\n",
    "- Columns: `id_01` to `id_38`, `DeviceInfo`, `DeviceType`\n",
    "- Description: This group encompasses identity information, including network connection details (such as IP, ISP, Proxy) and digital signatures (UA/browser/os/version, etc) associated with transactions. These data points are collected by Vesta’s fraud protection system and its digital security partners.\n",
    "- Hint: Understanding the identity information associated with transactions can provide insights into patterns of fraudulent activity, especially when analyzing network connections and device characteristics."
   ]
  },
  {
   "cell_type": "code",
   "execution_count": 51,
   "id": "53478961-19a2-4e32-b9c2-3fed0594fd2e",
   "metadata": {},
   "outputs": [
    {
     "name": "stdout",
     "output_type": "stream",
     "text": [
      "id_01    object\n",
      "id_02    object\n",
      "id_03    object\n",
      "id_04    object\n",
      "id_05    object\n",
      "id_06    object\n",
      "id_07    object\n",
      "id_08    object\n",
      "id_09    object\n",
      "id_10    object\n",
      "id_11    object\n",
      "id_12    object\n",
      "id_13    object\n",
      "id_14    object\n",
      "id_15    object\n",
      "id_16    object\n",
      "id_17    object\n",
      "id_18    object\n",
      "id_19    object\n",
      "id_20    object\n",
      "id_21    object\n",
      "id_22    object\n",
      "id_23    object\n",
      "id_24    object\n",
      "id_25    object\n",
      "id_26    object\n",
      "id_27    object\n",
      "id_28    object\n",
      "id_29    object\n",
      "id_30    object\n",
      "id_31    object\n",
      "id_32    object\n",
      "id_33    object\n",
      "id_34    object\n",
      "id_35    object\n",
      "id_36    object\n",
      "id_37    object\n",
      "id_38    object\n",
      "dtype: object\n"
     ]
    }
   ],
   "source": [
    "# Check data types of columns id_01 to id_38\n",
    "print(train_data.loc[:, 'id_01':'id_38'].dtypes)"
   ]
  },
  {
   "cell_type": "markdown",
   "id": "037ca8e4-dda3-4c2c-a83b-ac58d243c22d",
   "metadata": {},
   "source": [
    "`DeviceInfo`"
   ]
  },
  {
   "cell_type": "code",
   "execution_count": 52,
   "id": "f65cec77-c9e4-4928-99e3-91acb54b9e14",
   "metadata": {},
   "outputs": [
    {
     "name": "stdout",
     "output_type": "stream",
     "text": [
      "DeviceInfo\n",
      "Windows        47722\n",
      "iOS Device     19782\n",
      "MacOS          12573\n",
      "Trident/7.0     7440\n",
      "rv:11.0         1901\n",
      "               ...  \n",
      "LGMS345            1\n",
      "verykool           1\n",
      "XT1072             1\n",
      "LG-H931            1\n",
      "0PJA2              1\n",
      "Name: count, Length: 1786, dtype: int64\n"
     ]
    }
   ],
   "source": [
    "# Count occurrences of each unique value in the DeviceInfo column\n",
    "DeviceInfo_counts = train_data['DeviceInfo'].value_counts()\n",
    "\n",
    "# Print the counts\n",
    "print(DeviceInfo_counts)"
   ]
  },
  {
   "cell_type": "code",
   "execution_count": 53,
   "id": "4e2bcccd-b66b-4e7a-a569-133d237b4989",
   "metadata": {},
   "outputs": [
    {
     "name": "stdout",
     "output_type": "stream",
     "text": [
      "Number of missing values in DeviceInfo column: 471874\n"
     ]
    }
   ],
   "source": [
    "# Check for missing values in the DeviceInfo column\n",
    "DeviceInfo_missing_values = train_data['DeviceInfo'].isnull().sum()\n",
    "\n",
    "# Print the count of missing values\n",
    "print(\"Number of missing values in DeviceInfo column:\", DeviceInfo_missing_values)"
   ]
  },
  {
   "cell_type": "markdown",
   "id": "a109dde6-0e5a-4bd5-b7b9-211a9788a65b",
   "metadata": {},
   "source": [
    "`DeviceType`"
   ]
  },
  {
   "cell_type": "code",
   "execution_count": 54,
   "id": "e06d190b-ce60-4a16-9289-84289193074d",
   "metadata": {},
   "outputs": [
    {
     "name": "stdout",
     "output_type": "stream",
     "text": [
      "DeviceType\n",
      "desktop    85165\n",
      "mobile     55645\n",
      "Name: count, dtype: int64\n"
     ]
    }
   ],
   "source": [
    "# Count occurrences of each unique value in the DeviceType column\n",
    "DeviceType_counts = train_data['DeviceType'].value_counts()\n",
    "\n",
    "# Print the counts\n",
    "print(DeviceType_counts)"
   ]
  },
  {
   "cell_type": "code",
   "execution_count": 55,
   "id": "c176b8b0-d600-4f09-8472-2454ebac319a",
   "metadata": {},
   "outputs": [
    {
     "name": "stdout",
     "output_type": "stream",
     "text": [
      "Number of missing values in DeviceType column: 449730\n"
     ]
    }
   ],
   "source": [
    "# Check for missing values in the DeviceType column\n",
    "DeviceType_missing_values = train_data['DeviceType'].isnull().sum()\n",
    "\n",
    "# Print the count of missing values\n",
    "print(\"Number of missing values in DeviceType column:\", DeviceType_missing_values)"
   ]
  },
  {
   "cell_type": "markdown",
   "id": "9baf8c8a-847e-45db-84b4-9600d9c46503",
   "metadata": {},
   "source": [
    "<b>Summary of Missing Values for Group 9</b>\n",
    "- `DeviceInfo`:\n",
    "    - Number of missing values: 471,874\n",
    "    - Unique values: Examples include Windows, iOS Device, MacOS, etc.\n",
    "- `DeviceType`:\n",
    "    - Number of missing values: 449,730\n",
    "    - Unique values: desktop, mobile\n",
    "- `id_01` to `id_38`: Data types for these columns are object, which indicates they are likely categorical or string types. We need to check their missing values and determine how to handle them accordingly.\n",
    "\n",
    "<b>Strategy for Handling Missing Values</b>\n",
    "- `DeviceInfo` and `DeviceType`: A large number of missing values might indicate that this information wasn't collected or applicable for many transactions. One way to handle this is by creating a new category such as \"Unknown\".\n",
    "- `id_01` to `id_38`: Since these are likely categorical and represent various identity-related features, we can also handle these missing values the same way, with the string \"Unknown\"."
   ]
  },
  {
   "cell_type": "code",
   "execution_count": 74,
   "id": "c5fa602c-7d6b-48b5-8398-e9e20374526b",
   "metadata": {},
   "outputs": [
    {
     "name": "stdout",
     "output_type": "stream",
     "text": [
      "Missing values in DeviceInfo and DeviceType after imputation:\n",
      "DeviceInfo    0\n",
      "DeviceType    0\n",
      "dtype: int64\n",
      "\n",
      "Missing values in id_01 to id_38 after imputation:\n",
      "id_01    0\n",
      "id_02    0\n",
      "id_03    0\n",
      "id_04    0\n",
      "id_05    0\n",
      "id_06    0\n",
      "id_07    0\n",
      "id_08    0\n",
      "id_09    0\n",
      "id_10    0\n",
      "id_11    0\n",
      "id_12    0\n",
      "id_13    0\n",
      "id_14    0\n",
      "id_15    0\n",
      "id_16    0\n",
      "id_17    0\n",
      "id_18    0\n",
      "id_19    0\n",
      "id_20    0\n",
      "id_21    0\n",
      "id_22    0\n",
      "id_23    0\n",
      "id_24    0\n",
      "id_25    0\n",
      "id_26    0\n",
      "id_27    0\n",
      "id_28    0\n",
      "id_29    0\n",
      "id_30    0\n",
      "id_31    0\n",
      "id_32    0\n",
      "id_33    0\n",
      "id_34    0\n",
      "id_35    0\n",
      "id_36    0\n",
      "id_37    0\n",
      "id_38    0\n",
      "dtype: int64\n"
     ]
    }
   ],
   "source": [
    "# Fill missing values in DeviceInfo and DeviceType with 'Unknown'\n",
    "train_data['DeviceInfo'].fillna('Unknown', inplace=True)\n",
    "train_data['DeviceType'].fillna('Unknown', inplace=True)\n",
    "\n",
    "# List of id_01 to id_38 columns\n",
    "id_columns = train_data.loc[:, 'id_01':'id_38'].columns\n",
    "\n",
    "# Fill missing values in id_01 to id_38 with 'Unknown'\n",
    "train_data[id_columns] = train_data[id_columns].fillna('Unknown')\n",
    "\n",
    "# Verify that there are no missing values\n",
    "print(\"Missing values in DeviceInfo and DeviceType after imputation:\")\n",
    "print(train_data[['DeviceInfo', 'DeviceType']].isnull().sum())\n",
    "\n",
    "print(\"\\nMissing values in id_01 to id_38 after imputation:\")\n",
    "print(train_data[id_columns].isnull().sum())"
   ]
  },
  {
   "cell_type": "markdown",
   "id": "009dccbd-e50c-4046-a003-2a35f8cc841c",
   "metadata": {},
   "source": [
    "### Save the Analytical Set"
   ]
  },
  {
   "cell_type": "code",
   "execution_count": 76,
   "id": "24b6839a-9192-45ef-b6bb-35844eafc516",
   "metadata": {},
   "outputs": [
    {
     "name": "stdout",
     "output_type": "stream",
     "text": [
      "Analytic set saved as jc_analytic_set.csv\n"
     ]
    }
   ],
   "source": [
    "# Define a unique filename with your initials, e.g., 'AB_analytic_set.csv'\n",
    "filename = 'jc_analytic_set.csv' \n",
    "\n",
    "# Save the dataframe to a CSV file\n",
    "train_data.to_csv(filename, index=False)\n",
    "\n",
    "print(f\"Analytic set saved as {filename}\")"
   ]
  },
  {
   "cell_type": "code",
   "execution_count": null,
   "id": "122de60d-f0ba-4ae4-8f13-b746fcbbdcea",
   "metadata": {},
   "outputs": [],
   "source": []
  }
 ],
 "metadata": {
  "kernelspec": {
   "display_name": "Python 3 (ipykernel)",
   "language": "python",
   "name": "python3"
  },
  "language_info": {
   "codemirror_mode": {
    "name": "ipython",
    "version": 3
   },
   "file_extension": ".py",
   "mimetype": "text/x-python",
   "name": "python",
   "nbconvert_exporter": "python",
   "pygments_lexer": "ipython3",
   "version": "3.11.5"
  }
 },
 "nbformat": 4,
 "nbformat_minor": 5
}
